{
  "cells": [
    {
      "cell_type": "markdown",
      "metadata": {
        "id": "view-in-github",
        "colab_type": "text"
      },
      "source": [
        "<a href=\"https://colab.research.google.com/github/DataLDana/Cheat-Sheet/blob/main/MyCheatSheet.ipynb\" target=\"_parent\"><img src=\"https://colab.research.google.com/assets/colab-badge.svg\" alt=\"Open In Colab\"/></a>"
      ]
    },
    {
      "cell_type": "markdown",
      "id": "d2b57cff-d0b2-4110-90b2-b5d26ff2d201",
      "metadata": {
        "id": "d2b57cff-d0b2-4110-90b2-b5d26ff2d201"
      },
      "source": [
        "---\n",
        "---\n",
        "# My Cheat Sheet\n",
        "## Useful links\n",
        "Another cheat sheet\n",
        "<br>https://www.pythoncheatsheet.org/cheatsheet/basics\n",
        "\n",
        "Tutorials\n",
        "<br>https://www.w3schools.com/python/\n",
        "\n",
        "More Exercises\n",
        "<br>https://www.hackerrank.com/domains/python"
      ]
    },
    {
      "cell_type": "markdown",
      "source": [
        "---\n",
        "---\n",
        "# Methods and Types\n",
        "- Built-in Functions\n",
        "- Strings/Lists/Dictionaries/Sets"
      ],
      "metadata": {
        "id": "cWSWORUEy5le"
      },
      "id": "cWSWORUEy5le"
    },
    {
      "cell_type": "markdown",
      "source": [
        "---\n",
        "## Built-in Functions\n",
        "\n",
        "https://www.w3schools.com/python/python_ref_functions.asp\n",
        "\n",
        "|**Code**|**Description**|\n",
        "|---|---|\n",
        "|**Basic functions**|+++++++++++++++++++++++++|\n",
        "|type(x)| # gives type|\n",
        "|len(x)| # gives length|\n",
        "|str(x) | # converts to str|\n",
        "|list(x)| # converts to list|\n",
        "|round(num, n)| # round number to n digits|\n",
        "|del var| # deletes var|\n",
        "|**logical conditions**|+++++++++++++++++++++++++|\n",
        "|1 == 0| # equals|\n",
        "|1 != 0| # is not|\n",
        "|1 <= 0| # smaller than|\n",
        "|1 in [1, 2, 3]| # in operator, gives true if value is in list|\n",
        "|**unsorted**|+++++++++++++++++++++++++|\n",
        "|x += 1<br>x*=2| # set and operation at the same time! (broadcasting)|\n",
        "|random.randint(1, 100)| # get a random number between 1 and 100, import random before or np.random.randint|\n",
        "\n",
        "<br>\n",
        "\n",
        "|**Code**|**Description**|\n",
        "|---|---|\n",
        "|+,-| # Addition, Subtraction|\n",
        "|\\*| #  Multiplication|\n",
        "|\\/| # Floating-point division|\n",
        "|\\/\\/|# Truncating division|\n",
        "|%| #  Modulo operator, returns the remainder of a division operator,<br># 2%2 -> 2/2=1.0, returns 0, 1%2 \\-> 1/2=0.5, returns 0.5|\n",
        "|\\**| # Exponent|\n",
        "|3e2| #  3*10^2|"
      ],
      "metadata": {
        "id": "HdJtMIwxyYQc"
      },
      "id": "HdJtMIwxyYQc"
    },
    {
      "cell_type": "markdown",
      "source": [
        "---\n",
        "## String Methods\n",
        "\n",
        "**Slicing**\n",
        "\n",
        "|**Code**|**Slice**|**Description**|\n",
        "|---|---|---|\n",
        "|x = 'Hello world!' |||\n",
        "|x[0]|'H'| # access to n+1 entry|\n",
        "|x[0:2]| 'He'| # from n+1=1 to (n+1)-1=n, EXCLUDING|\n",
        "|x[-1]|'!'| # last entry|\n",
        "|x[-4:2]|'rl'| # 4th last entry to 2nd last entry, EXCLUDING!|\n",
        "|x[:3]|'Hel'| # index start or end impicitly, from first to position 3|\n",
        "|x[3:]|'lo world!'| # from position 4, because indexing starts with zero|\n",
        "\n",
        "<br>\n",
        "\n",
        "**Methods**\n",
        "\n",
        "https://www.w3schools.com/python/python_ref_string.asp\n",
        "\n",
        "https://regex101.com/ -> test regexes\n",
        "\n",
        "|**Code**|**Description**|\n",
        "|---|---|\n",
        "|str.split('pattern') | # splits according to pattern|\n",
        "|str.match('pattern')| # gives true if pattern is found|\n",
        "|str.findall('pattern')| # returns pattern|\n",
        "|str.finditer('pattern')| # returns iteration object|\n",
        "|str.search('pattern')|# returns match object|\n",
        "|str.contains('pattern', case=False, regex=True)| # checks if any part of each string matches the given string,<br>ignore case sensitvity|\n",
        "|str.contains('pat1\\|pat2')|# pat1 OR pat2|\n",
        "|str.contains('(?=.*WORD1)(?=.*WORD2))| # # searches for WORD1 and WORD2 somewhere in the expression|\n",
        "|str.get()| # grab if its there, but if not it wont break the code|\n",
        "|str.replace('what','with', n)| # replaces what with with exactly n times, no update|\n",
        "|str.strip()| # remove spaces|\n",
        "|str.len()| # special method in pandas|\n",
        "|**FIND/COUNT patterns**| ++++++++++++++++++++++++++++++++|\n",
        "|str.find('pattern')| # returns index of first occurence, -1 if not found|\n",
        "|str.count('pattern')| # counts occurences|\n",
        "|str.startswith('p')<br>str.endswith('p') | # gives true if str starts/ends with p|\n",
        "|**case sensitve**| ++++++++++++++++++++++++++++++++|\n",
        "|str.title()| # capitalizes|\n",
        "|str.lower()/.upper()| # change to lower/upper cases|\n",
        "|str.capitalize()| # first letter to upper case|\n",
        "|str.swapcase()| # changes case |\n",
        "|str.casefold()| # ? Removes all case distinctions in the string|"
      ],
      "metadata": {
        "id": "Y2S3fOTuzPv5"
      },
      "id": "Y2S3fOTuzPv5"
    },
    {
      "cell_type": "markdown",
      "source": [
        "---\n",
        "## Lists\n",
        "**List Basics**\n",
        "\n",
        "|**Code**|**Description**|\n",
        "|---|---|\n",
        "|s = [ ]| # creates empty list |\n",
        "|s = [1, str, dict, None]| # creates a list|\n",
        "|s = [[1, 2],[3, 4]] | # creates a nested list in list, access first entry s[0][0] |\n",
        "|[1,2] + [3,4]| # concentrates list|\n",
        "|s*3 | # repeats values of a list |\n",
        "|s[0]**3 | # 1^3|\n",
        "\n",
        " **Methods**\n",
        " <br>https://www.w3schools.com/python/python_ref_list.asp\n",
        "\n",
        "|**Code**|**Description|\n",
        "|---|---|\n",
        "|s=list||\n",
        "|s.append(item)| # appends items to s, updates|\n",
        "|s.extend(item)| # like append but keeps list flat, does not nest|\n",
        "|s.insert(index, item)| # inserts an item at the specified index|\n",
        "|s.extend()| # add elements of a list to the end of the current list<br>(inside the list, equal to =+)|\n",
        "|s.remove(item)| # removes the first occurrence of an item from the list|\n",
        "|s.clear()| # removes elements from the list|\n",
        "|s.pop(index)| # removes AND RETURNS the item at the specified index,<br>direct new assignment|\n",
        "|s.copy()| # returns copy of the list|\n",
        "|s.count()| # returns number of elements with the specified value|\n",
        "|s.index()| # returns index of the first element with the specified value|\n",
        "|s.sort()| # sorts the items in the list in ascending order, updates|\n",
        "|s.reverse()| # reverses the order of the items in the list|"
      ],
      "metadata": {
        "id": "KK1VGA_czfqK"
      },
      "id": "KK1VGA_czfqK"
    },
    {
      "cell_type": "markdown",
      "source": [
        "---\n",
        "## Dictionaries\n",
        "\n",
        "**Basics**\n",
        "\n",
        "|**Code**|**Description|\n",
        "|---|---|\n",
        "|d={}| # create empty dict|\n",
        "|d = {'key1':'value1','key2':'value2'} | # creation of dicts|\n",
        "|d['key1']| # gives value1, similar to d.get['key1']|\n",
        "|d.get['key1']| # returns value, use if not sure if its assignend|\n",
        "|d['key3'] = 'value3' | # adds value3 to key3 or overwrites it|\n",
        "|d.keys()| # Returns a list containing the dictionary's keys|\n",
        "|d.values()| # Returns a list of all the values in the dictionary|\n",
        "|d.items()| # Returns a list containing a tuple for each key value pair|\n",
        "\n",
        "**Methods**\n",
        "<br>https://www.w3schools.com/python/python_ref_dictionary.asp\n",
        "\n",
        "|**Code**|**Description|\n",
        "|---|---|\n",
        "|d.clear()| # Removes all the elements from the dictionary|\n",
        "|d.copy()| # Returns a copy of the dictionary|\n",
        "|d.fromkeys()| # Returns a dictionary with the specified keys and value|\n",
        "|d.pop()| # Removes the element with the specified key|\n",
        "|d.popitem()| # Removes the last inserted key-value pair|\n",
        "|d.setdefault()| # Returns the value of the specified key. If the key does not exist:<br>insert the key, with the specified value|\n",
        "|d.update()| # Updates the dictionary with the specified key-value pairs|"
      ],
      "metadata": {
        "id": "pA9wNObJzlCf"
      },
      "id": "pA9wNObJzlCf"
    },
    {
      "cell_type": "markdown",
      "source": [
        "---\n",
        "## Sets\n",
        "\n",
        "**Basics**\n",
        "* They are not ordered.\n",
        "* Since they are unordered, they lack indexing.\n",
        "* They cannot contain duplicate items.\n",
        "\n",
        "|**Code**|**Description**|\n",
        "|---|---|\n",
        "|my_set = {1,2,3,4,5,5}| # define a set|\n",
        "|list(set([1,2,3,4]) - set([1,2]))| # gives the rest [3,4] |\n",
        "|list(set([1,2,3,4]) & set([1,2]))| # gives the intersection [1,2]|\n",
        "\n",
        "**Methods**\n",
        "<br>https://www.w3schools.com/python/python_ref_set.asp\n",
        "\n",
        "|**Code**|**Description|\n",
        "|---|---|\n",
        "|add()| # Adds an element to the set|\n",
        "|clear()| # Removes all the elements from the set|\n",
        "|copy()| # Returns a copy of the set|\n",
        "|difference()|# Returns a set containing the difference between two or more sets|\n",
        "|difference_update()| # Removes the items in this set that are also included in another, specified set|\n",
        "|discard()| # Remove the specified item|\n",
        "|intersection()| # Returns a set, that is the intersection of two other sets|\n",
        "|intersection_update()| # Removes the items in this set that are not present in other, specified set(s)|\n",
        "|isdisjoint()| # Returns whether two sets have a intersection or not|\n",
        "|pop()| # Removes an element from the set|\n",
        "|remove()| # Removes the specified element|\n",
        "|union()| # Return a set containing the union of sets|\n",
        "|update()| # Update the set with the union of this set and others|"
      ],
      "metadata": {
        "id": "lY_4C449z9OV"
      },
      "id": "lY_4C449z9OV"
    },
    {
      "cell_type": "markdown",
      "source": [
        "---\n",
        "---\n",
        "# Basics"
      ],
      "metadata": {
        "id": "VWslz3o4a0pR"
      },
      "id": "VWslz3o4a0pR"
    },
    {
      "cell_type": "markdown",
      "source": [
        "## Loops/Conditionals/Functions\n",
        "**Loops**\n",
        "\n",
        "|**Code**|**Description**|\n",
        "| ---- | ---- |\n",
        "|for item in var:<br>______print(item)| # for loop to excess entries, item is simply treated as every entry in var,<br>**lists** item = list entries<br>**strings** item = characters<br>**dictionary** item = keys |\n",
        "|for i in range(0,2):<br>______print(var[i])| # loops for specific range is excluding,<br> range(2) = 0,1, range(2,5)=2,3,4, range(10,55,5) = 10,15,20....50|\n",
        "|while condition:<br>______print(var)| # Execute while condition is True|\n",
        "|i=0<br>while i != len(s):<br>______print(s[i])<br>______i+=1| # loops while condition is met|\n",
        "|for index, value in enumerate(iterable):| # loop through any iterable, eg list, and keep index and value info|\n",
        "|for i, row in df.iterrows():<br>______print(row)<br>______row['Col']| # iterates through all rows of a df, row = dataseries of one row, i = number of row<br> row['Col'] gives entry of Col/Row|\n",
        "|for item_outer in dict:<br>______print(item_outer)<br>____________for item_inner in dict[item_outer]:<br>____________print(item_inner)|# looping nested dictionary, dict={key:[a,b],key:[c,d]}<br> returns:<br>key1, a, b<br>key2, c, d|\n",
        "|for group, frame in df.groupby('col'):|# iteration over groups,group gives names of group, frame is df('group')|\n",
        "\n",
        "<br>\n",
        "\n",
        "**Conditionals**\n",
        "\n",
        "|**Code**|**Description**|\n",
        "| ---- | ---- |\n",
        "|if var:<br> ___ action<br> elif condition:<br> ___other action<br>else:<br>___another action| # if var is not None then do 'action'<br><br> if condition is met do 'other action'<br><br> all other cases do 'another action'|\n",
        "|if condition:<br>___ break| # Exits the loop above and stops|\n",
        "|if condition:<br>___ continue| # Continue with the next iteration<br>(code after continue not executed)|\n",
        "\n",
        "<br>\n",
        "\n",
        "**Functions/Special Functions**\n",
        "\n",
        "|**Code**|**Description**|\n",
        "| ---- | ---- |\n",
        "|def function_name(var1, var2, var3=None):<br>______something happens<br>return var| # define a function,<br>set default by assigning a variable,<br>then it doen't have to be given |\n",
        "|var = input('String')| # Use **input function** to ask the user for input, pressing enter|\n",
        "|%%timeit -n 100 | # magical function with 100 loops, measures time|\n",
        "|import timeit<br>timeit.timeit(function, number=10)| # **timeit function**, measure time of function|\n",
        "|zip(iterable,iterable)| # creates a list of tuples of paired elements (list1[0],list2[0])<br> # use dict(zip(df[col1],df[col2] to create a dictionary with all entries)|"
      ],
      "metadata": {
        "id": "UDPz1mx3swo-"
      },
      "id": "UDPz1mx3swo-"
    },
    {
      "cell_type": "markdown",
      "source": [
        "---\n",
        "## List Comprehensions/Mapping/F-Strings\n",
        "**List comprehnsions**\n",
        "\n",
        "|**Comprehension**|**Loop**|**Description**|\n",
        "| ---- | ---- | ---- |\n",
        "|[ operation for i in char for j in num]|for i in char:<br>__ for j in num:<br>____ operation(i + j) | # loops j in num and i in char|\n",
        "|[number*2 for number in range(0,10)...<br> if number % 2 == 0]|for number in range(10):<br>__ if number % 2 == 0:<br>____ my_list.append(number)| # list of even numbers|\n",
        "\n",
        "**Unpacking/Fstring/Mapping**\n",
        "\n",
        "|**Code**|**Description**|\n",
        "| ---- | ---- |\n",
        "|**Unpacking**|--------------------------------------------|\n",
        "|x = ['str', 'str', 'str']<br>var1, var2, var3 = x | # declare/**unpack** three variables directly from the list|\n",
        "|**F Strings**|--------------------------------------------|\n",
        "|'{}...{}'.format(var1,var2)| # .format inserts variables into the placeholders {}|\n",
        "|f'...{var1}...{var2}'| # f-strings, easier version of .format|\n",
        "|**Mapping**|--------------------------------------------|\n",
        "|map(fun, list)| # mapping is a fast way to execute a function to every entry of a list,<br>returns map object, instead of for loop|\n",
        "|list(map(fun,list))| # use list() to return list|\n",
        "|map(min, list1, list2)| # here minimum of list1 and list2|\n",
        "|def square(number):<br>__return number ** 2<br>list(map(square,x))| # here every entry of x=[1,2,3] is squared =[1,4,9]|\n",
        "|**Lambda Functions**|--------------------------------------------|\n",
        "|fun = lambda a, b, c : a + b<br>fun(1,2,3)<br>(lambda a, b, c : a + b)(1, 2, 3)| # short lived function, first parameters, then function<br> # excecute<br> # define and excecute and the same time|\n",
        "|for item in x:<br>__print((lambda z: z**2)(item))| # use lambda function within a loop|\n",
        "\n"
      ],
      "metadata": {
        "id": "h20-dI0k2js5"
      },
      "id": "h20-dI0k2js5"
    },
    {
      "cell_type": "code",
      "execution_count": null,
      "id": "fb692a3d-357b-4628-b492-37fd19d7e8c2",
      "metadata": {
        "id": "fb692a3d-357b-4628-b492-37fd19d7e8c2",
        "outputId": "f2152f31-a3c6-4b0e-fdac-497f607ed313",
        "colab": {
          "base_uri": "https://localhost:8080/"
        }
      },
      "outputs": [
        {
          "output_type": "stream",
          "name": "stdout",
          "text": [
            "Option 1:\n",
            "Dr. Brooks\n",
            "Eva Müller\n",
            "Option 2:\n"
          ]
        },
        {
          "output_type": "execute_result",
          "data": {
            "text/plain": [
              "['Dr. Brooks', 'Eva Müller']"
            ]
          },
          "metadata": {},
          "execution_count": 4
        }
      ],
      "source": [
        "#*********example of mapping/lambda functions********************************+\n",
        "# function to convert to lambdas\n",
        "people = ['Dr. Christopher Brooks', 'Eva Maria Müller']\n",
        "\n",
        "def split_title_and_name(person):      #attention: here person is not used as class anymore!\n",
        "    return person.split()[0] + ' ' + person.split()[-1]\n",
        "\n",
        "# option 1, for loop with\n",
        "print('Option 1:')\n",
        "for person in people:\n",
        "    # use defined function\n",
        "    split_title_and_name(person)   # same output\n",
        "    # use direct lambda function\n",
        "    print( (lambda x: x.split()[0] + ' ' + x.split()[-1])(person) )\n",
        "\n",
        "# option 2, no for loop\n",
        "# use def function in map\n",
        "list(map(split_title_and_name, people))\n",
        "#use direct lambda function in map\n",
        "print('Option 2:')\n",
        "list(map(lambda person : person.split()[0] + ' ' + person.split()[-1], people))"
      ]
    },
    {
      "cell_type": "markdown",
      "source": [
        "---\n",
        "# Classes\n",
        "Some examples on classes"
      ],
      "metadata": {
        "id": "rsyINMCs3HkT"
      },
      "id": "rsyINMCs3HkT"
    },
    {
      "cell_type": "code",
      "execution_count": null,
      "id": "e9868b9e-f482-42f8-9a37-30a23f8f5168",
      "metadata": {
        "id": "e9868b9e-f482-42f8-9a37-30a23f8f5168",
        "outputId": "8084721d-4a07-413b-ec59-87439964b995"
      },
      "outputs": [
        {
          "name": "stdout",
          "output_type": "stream",
          "text": [
            "Christopher Brooks live in dtown and works in the department School of Information\n"
          ]
        }
      ],
      "source": [
        "# ++++++++++++++++++++define classes+++++++++++++++++++++++\n",
        "class Person:                            #define class, all below is in scope with this class\n",
        "    department = 'School of Information' #no declaration of variables needed, but if declared its shared across all instances\n",
        "    def set_name(self, new_name):        #define a method as you would have a function, use self in the method signature to have access\n",
        "        self.name = new_name\n",
        "\n",
        "person = Person()                        #sets person to be class of Person\n",
        "person.set_name('Christopher Brooks')\n",
        "print('{} live in dtown and works in the department {}'.format(person.name, person.department))"
      ]
    },
    {
      "cell_type": "code",
      "execution_count": null,
      "id": "026c0eb5-e98f-46cf-977f-5033e2c44f3b",
      "metadata": {
        "id": "026c0eb5-e98f-46cf-977f-5033e2c44f3b",
        "outputId": "936477bf-2b36-46e0-c45a-af1ee44f3a27"
      },
      "outputs": [
        {
          "data": {
            "text/plain": [
              "['Dr. Brooks', 'Dr. Collins-Thompson']"
            ]
          },
          "execution_count": 15,
          "metadata": {},
          "output_type": "execute_result"
        }
      ],
      "source": [
        "#**********************************\n",
        "# another example\n",
        "people = ['Dr. Christopher Brooks', 'Dr. Kevyn Collins-Thompson']\n",
        "#definition of function which gets a single name of the list people\n",
        "def split_title_and_name(person):           #person is one single str of the list people 'Dr. Christopher Brooks'\n",
        "    title = person.split(' ')[0]            #''Dr.'\n",
        "    lastname = person.split(' ')[-1]        #'Brooks'\n",
        "    return '{} {}'.format(title, lastname)  # returns 'Dr. Brooks', dynamic, equal to title + ' ' + lastname\n",
        "result = map(split_title_and_name, people)\n",
        "list(result)\n",
        "#**********************************"
      ]
    },
    {
      "cell_type": "markdown",
      "id": "4ceadebe-ddcc-4be8-9b8b-8967b8b103ee",
      "metadata": {
        "tags": [],
        "id": "4ceadebe-ddcc-4be8-9b8b-8967b8b103ee"
      },
      "source": [
        "---\n",
        "---\n",
        "# Numpy\n",
        "\n"
      ]
    },
    {
      "cell_type": "markdown",
      "source": [
        "**Basis**\n",
        "\n",
        "|**Code**|**Description**|\n",
        "|---|---|\n",
        "|import numpy as np| # numpy import|\n",
        "|list=[1, 2, 3]| # examplary list|\n",
        "|a = np.array(list)| # array creation|\n",
        "|b = np.array([list1, list2])| # 2 d array creation|\n",
        "|c = a * b| # element wise multiplication |\n",
        "|c = a @ a| # matrix product|\n",
        "\n",
        "<br>\n",
        "\n",
        "**Indexing, Slicing**\n",
        "\n",
        "|**Code**|**Description**|\n",
        "| ---- | ---- |\n",
        "|a[1]| # n-1 entry|\n",
        "|b[n,m]| # row n and column m |\n",
        "|b[:2]| # all elements from first (0th) to second row|\n",
        "|b[:2, 0:2]| # first two rows, but only first and second entry|\n",
        "|b[:,0]| # gives first column|\n",
        "|b[:,0:1]| # first column but preserves column character|\n",
        "|b[:,[0,2]]| # non consecutive rows, gives first and third row|\n",
        "\n",
        "<br>\n",
        "\n",
        "**Dimensions**\n",
        "\n",
        "|**Code**|**Description**|\n",
        "| ---- | ---- |\n",
        "|a.ndim| # gives n-dimension (zuerst runter!) as integer |\n",
        "|b.shape| # gives tuple with (n,m) (runter, rechts)|\n",
        "|b.reshape(1,6)<br>b.reshape(1,-1)| # gives all numbers as vector<br> turns an (n,) array to (1,n) array|\n",
        "|a.dtype| # gives type 'int64', 'float64' as type class|\n",
        "|a.dtype.name| # give type a string|\n",
        "\n",
        "\n",
        "<br>\n",
        "\n",
        "**Methods & Creation**\n",
        "\n",
        "|**Code**|**Description**|\n",
        "| ---- | ---- |\n",
        "|np.insert(b,2,a,axis=0)| # insert a to b before second colum along axis y|\n",
        "|np.append(b, a, axis=0)| # append a to b|\n",
        "|np.zeros((2,3),'int64')| # 2 x 3 with zeros|\n",
        "|np.ones((2,3),'int64')|# 2 x 3 with ones|\n",
        "|np.arange(0, 10, 2)| # createss range from 0 to 10 in steps of two,<br>EXCLUSIVE! 0,2,4,6,8|\n",
        "|np.linspace(0, 8, 5)| # creating linear float arrays from 0 to 8 in 5 numbers,<br>INCLUSIVE, 0,2,4,6,8|\n",
        "|np.random.rand(2,3)| # create random 2 x 3 array with floats|\n",
        "|np.random.randint(0, 5, size=(2, 3))| # generate a 2 x 3 array of ints between 0 and 5|\n",
        "|np.random.random(100)| # creates array with 1000 numbers|\n",
        "\n",
        "<br>\n",
        "\n",
        "**NaNs**\n",
        "\n",
        "|**Code**|**Description**|\n",
        "| ---- | ---- |\n",
        "|np.nan| # gives NaN, np.nan=!np.nan|\n",
        "|np.isnan(number)| # checks for NaN, np.isnan(np.nan)=True|\n",
        "|np.average(array)| # gives average, doesnt ignore nans|\n",
        "|np.nanmean(array)| # average, ignores nan|\n",
        "|np.nanstd(array)| # std deviation, ignores nan|\n",
        "\n",
        "<br>\n",
        "\n",
        "**Subarays**\n",
        "\n",
        "|**Code**|**Output**|**Description**|\n",
        "| ---- | ---- | ---- |\n",
        "|c = np.array([[1, 2, 3], [5, 6, 7],[8, 9, 10]])|[[ 1  2  3]<br>[ 5  6  7]<br>[ 8  9 10]]| # define array|\n",
        "|subarray=c[0:2,0:2]|[[1 2]<br>[5 6]]| # define subarray|\n",
        "|subarray[0,0]=50|[[50 2]<br>[5 6]]| # change subarray|\n",
        "|c|[[50  2  3]<br>[ 5  6  7]<br>[ 8  9 10]]| # c is also changed!|"
      ],
      "metadata": {
        "id": "nLYga2joztLI"
      },
      "id": "nLYga2joztLI"
    },
    {
      "cell_type": "markdown",
      "id": "6572386a-8758-4aa8-ac37-2930da2203a9",
      "metadata": {
        "tags": [],
        "id": "6572386a-8758-4aa8-ac37-2930da2203a9"
      },
      "source": [
        "---\n",
        "---\n",
        "# Loading/Saving Data"
      ]
    },
    {
      "cell_type": "markdown",
      "source": [
        "|**Code**|**Description|\n",
        "|---|---|\n",
        "|with open('data.txt','r') as file:<br> ___wiki = file.read()| # r = only read<br>#read the file into a variable|\n",
        "|pd.read_csv/excel('../Folder1/data.csv', index_col=0, header=int,<br> skipfooter = int,na_values = str)| # read in csv file with pandas, set index column, number of header lines,<br>number of skipped footer lines, identify NaN values,<br>'..' in path goes folder up in path|\n",
        "|pd.read_table('.txt')| # read data from txt file|\n",
        "|url = 'dropbox-link'<br>path = 'https://drive.google.com/uc?export=download&id='+url.split('/')[-2]<br> df = pd.read_csv(path)| # load data via a dropboxlink|\n",
        "|pd.to_csv(path)| # save with pandas|\n",
        "|np.genfromtxt('data.csv', delimiter=',', skip_header=1,<br>dtype=None,names=('col1','col2',...))| # load with numpy, if column names are specified<br>then indexing arr['col1'] possible|\n",
        "\n",
        "\n"
      ],
      "metadata": {
        "id": "Dw9dsF5ojTnt"
      },
      "id": "Dw9dsF5ojTnt"
    },
    {
      "cell_type": "markdown",
      "id": "af612646-f772-405d-ad4b-106c7f773f27",
      "metadata": {
        "tags": [],
        "id": "af612646-f772-405d-ad4b-106c7f773f27"
      },
      "source": [
        "---\n",
        "---\n",
        "# Regex"
      ]
    },
    {
      "cell_type": "markdown",
      "source": [
        "**Basics**\n",
        "\n",
        "|**Code**|**Output**|**Description**|\n",
        "|---|---| ---|\n",
        "|txt = 'We find patterns with regex!'|---| # example text|\n",
        "|re.findall('patterns',txt)| ['patterns']| # findall() returns pattern|\n",
        "|re.split('patterns', txt)| ['We find ', ' with regex!'] | # split() returns substring of str, with everything which is not 'pattern'|\n",
        "|re.match('patterns',txt)<br>bool(re.match('patterns',txt))| None<br>True/False | # searches **at the beginning**, returns<br>Boolean, can be used in if clause re.match(...)|\n",
        "|x = re.search('patterns',txt)|<re.Match object; span=(8, 16),<br> match='patterns'>||\n",
        "|x.span()<br>x.start()<br>x.end()<br>x.group()|(8, 16)<br>8<br>16<br>patterns| # query match object|\n",
        "|for item in re.finditer('patterns',txt):<br>_\\__print(item.group())|<callable_iterator object at 0x79c23cf2f250>| # iterator object|\n",
        "\n",
        "<br>\n",
        "\n",
        "**Anchors/AND/OR/NEG**\n",
        "\n",
        "|**Code**|**Output**|**Description**|\n",
        "|---|---| ---|\n",
        "|txt = 'ACAAAABCBCBAA'|'ACAAAABCBCBAA'| # example text|\n",
        "|re.findall('^A',txt)|['A']| # ^, charat operator, pattern must be at the beginning|\n",
        "|re.findall('C\\$',txt)|[]| # $, dollar operator, pattern mus tbe at the end|\n",
        "|re.findall('AB',txt)|['AB']| # A&B consecutively|\n",
        "|re.findall('[AB]',txt)|['A', 'A', 'A', 'A', 'A', 'B', 'B', 'B', 'A', 'A']|# set operator, searches for A OR for B, equal to A\\|B|\n",
        "|re.findall('[A-C]',txt)|['A', 'C', 'A', 'A', 'A', 'A', 'B', 'C', 'B', 'C', 'B', 'A', 'A']|# set operator with range of characters a-z, 0-9, A-Z,<br>equal to A\\|B\\|C|\n",
        "|re.findall('[A][A-C]',txt)|['AC', 'AA', 'AA', 'AA']|# A and (A OR B OR C) == AA, AB, AC<br>(once one instance is found, letter gone)|\n",
        "|re.findall('AB\\|AC',txt)|['AC', 'AB']| # pipe operator|\n",
        "|re.findall('[^A]',txt)|['C', 'B', 'C', 'B', 'C', 'B']| # in set operator, NOT, everything which is not A|\n",
        "\n",
        "<br>\n",
        "\n",
        "**Quantifiers**\n",
        "\n",
        "|**Code**|**Output**|**Description**|\n",
        "|---|---| ---|\n",
        "|txt = 'ACAAAABCBCBAA'|'ACAAAABCBCBAA'| # example text|\n",
        "|re.findall('A{2,10}', txt)|['AAAA', 'AA']| # e{m,n}, e is expression m minimum and n maxium number of times to be matched|\n",
        "|re.findall('A{2}', txt)|['AA', 'AA', 'AA']| # default n=m|\n",
        "|re.findall('A*', txt)|['A', '', 'AAAA', '', '', '', '', '', 'AA', '']| # match 0 or more times, also gives non matches as whitespace|\n",
        "|re.findall('A?', txt)|['A', '', 'A', 'A', 'A', 'A', '', '', '', '', '', 'A', 'A', '']| # match 0 or 1 time, non matches as whitespace|\n",
        "|re.findall('A+', txt)|['A', 'AAAA', 'AA']| # match 1 or more times, no white spaces|\n",
        "\n",
        "<br>\n",
        "\n",
        "**Special Characters**\n",
        "\n",
        "|**Code**|**Description**|\n",
        "|---|---|\n",
        "|'[a-zA-Z]{1,100}'| # all lowercase and uppercase characters up to 100 letters|\n",
        "|'\\\\['| # to find '['|\n",
        "|'\\\\'| # find whitespace ' '|\n",
        "|'\\w'| # for any letter, including digits and numbers, [\\w]==\\w |\n",
        "|'[\\w ]'| # for any letter,digit, numbers, including whitespace |\n",
        "|'.'| # for any single character which is not a newline |\n",
        "|'\\d'| # for any digit|\n",
        "|\\s| # for any whitespace character, like spaces and tabs|\n",
        "\n",
        "\n",
        "\n",
        "\n"
      ],
      "metadata": {
        "id": "YCvLmFjVx5xt"
      },
      "id": "YCvLmFjVx5xt"
    },
    {
      "cell_type": "markdown",
      "id": "88039196-db01-4668-a69d-4249614940c8",
      "metadata": {
        "tags": [],
        "id": "88039196-db01-4668-a69d-4249614940c8"
      },
      "source": [
        "---\n",
        "---\n",
        "# Pandas - Series\n",
        "\n",
        "https://pandas.pydata.org/docs/reference/api/pandas.Series.html"
      ]
    },
    {
      "cell_type": "markdown",
      "source": [
        "**Basics**\n",
        "\n",
        "|**Code**|**Description**|\n",
        "| ---- | ---- |\n",
        "|**Creation**|--------------------------------------------|\n",
        "|pd.Series(List/Dict)| # create Series with List (can contain tuples)<br>or dictionaries, then dict key gets the index|\n",
        "|pd.Series(List,index=List2)|# assign index during creating, if no value is assigned to an index-> NaN|\n",
        "|**Indexing**|--------------------------------------------|\n",
        "|By Index| --> cannot be extended |\n",
        "|s.iloc[0]| # iloc, arrays possible, slower|\n",
        "|s.iat[0]| # only single cells, fast |\n",
        "|By Labels| --> can be extended with list of indices|\n",
        "|s.loc['index']| # iloc, arrays possible, slower|\n",
        "|s['index']| #  by index operator, middle speed|\n",
        "|s.at['index']| # only single cells, fast |\n",
        "|**Methods**|--------------------------------------------|\n",
        "|s.index| # get index of the series, ??? Index(['Alice', 'Molly'], dtype='object')|\n",
        "|s.name| # gives/set name of DataSeries|\n",
        "|s.head()| # get first 5 entries of series|\n",
        "|s.append()| |\n",
        "|s.idxmax()| # gives index of maxium |\n",
        "|s.max()| # gives maximum |\n",
        "|s.tolist()| # like list() but horizontally |\n",
        "|s.value| # returns numpy array of values|\n",
        "|**Iteration**|--------------------------------------------|\n",
        "|for label, value in s.iteritems():<br>_\\__print(label)<br>\\___print(value)| # access label and value of a series|\n"
      ],
      "metadata": {
        "id": "3hKeEdk3PqIk"
      },
      "id": "3hKeEdk3PqIk"
    },
    {
      "cell_type": "markdown",
      "id": "376cdad9-e180-48c4-84ac-08cdb278d8f3",
      "metadata": {
        "id": "376cdad9-e180-48c4-84ac-08cdb278d8f3"
      },
      "source": [
        "---\n",
        "---\n",
        "# Pandas - DataFrames\n",
        "https://pandas.pydata.org/docs/reference/api/pandas.DataFrame.html\n",
        "\n",
        "<br>Another Cheat Sheet https://docs.google.com/document/d/18ylCJPEHMdm6OOCIzNDOd530W93yeMFEYwNdl5MDTjQ/edit#heading=h.3g178ykvhufg"
      ]
    },
    {
      "cell_type": "markdown",
      "source": [
        "---\n",
        "## Basics\n",
        "\n",
        "**Change options Pandas**\n",
        "\n",
        "https://pandas.pydata.org/pandas-docs/stable/user_guide/options.html\n",
        "\n",
        "|**Code**|**Description**|\n",
        "| ---- | ---- |\n",
        "|pd.options.display.max_rows = 100 | # change number of displayed rows|\n",
        "|pd.set_option('display.float_format', lambda x: '%.2f' % x)| # set float numbers to two decimals |\n",
        "|pd.reset_option('display.max_rows')| # reset a specific option|\n",
        "|pd.set_option('display.max_colwidth', 100)| # set column width|\n",
        "\n",
        "<br>\n",
        "\n",
        "**Abbreviations**\n",
        "\n",
        "|**Code**|**Description**|\n",
        "| ---- | ---- |\n",
        "|List=['str1','str2', ...]| # Abbreviation |\n",
        "|List/Str = ['Col1,'Col2', ...] OR 'Col'| # Abbreviation|\n",
        "\n",
        "<br>\n",
        "\n",
        "**Creation**\n",
        "\n",
        "|**Code**|**Description**|\n",
        "| ---- | ---- |\n",
        "|pd.DataFrame([{a:1},{b:2}])<br>pd.DataFrame([{'col1':List},{'col2':List}])| # Creates df with a dictionary as a,b keys with entries 1,2<br># Creates df with a dictionary with col1, col2 as columns with List as columns |\n",
        "|pd.DataFrame([Series1, Series2])| # Creates df with series|\n",
        "|pd.DataFrame(dicts/Series,columns=List ,index=List)| # creates dataframes with column index names, also empty df|\n",
        "\n",
        "\n",
        "<br>\n",
        "\n",
        "**Quering**\n",
        "\n",
        "|**Code**|**Description**|\n",
        "| ---- | ---- |\n",
        "|df.loc[List/Stg_Row,List/Str_Col] | # Indexing Frames by index, updates(!)<br># ??? df.loc[..] -> rows, .loc[[..]] gives back a ds insead of ds|\n",
        "|df.iloc[int_row,int_col] | # position based indexing|\n",
        "|df['Col'] or df[List]| # Indexing Operator, does not update (!)|\n",
        "|df.T.loc['Col']| # Indexing with Transpose|\n",
        "|df.columnname| # Indexing by attribute, only works as long as its no special name of pandas, don't use|\n",
        "|ds.index.get_loc(key)| # get position/index of a specified row<br> e.g key='Kelly' --> 3 is the position of the row  named 'Kelly'|"
      ],
      "metadata": {
        "id": "7v-8XzR7Cuk8"
      },
      "id": "7v-8XzR7Cuk8"
    },
    {
      "cell_type": "markdown",
      "source": [
        "---\n",
        "## Data Exploration\n",
        "\n",
        "|**Code**|**Description**|\n",
        "| ---- | ---- |\n",
        "|df.columns| # returns names of columns, df.columns = 'List' writes|\n",
        "|df.index| # returns index col, with ranges/steps|\n",
        "|df.sample()| # returns a random row of the df|\n",
        "|df.sample(n=10, replace=True,random_state=int)| # take a sample of n, replace=True make multiple selection of one row possible,<br> random_state forces the Pseudorandom Number Generagtor (PRNG) of df.sample<br>to return a specific random outcome, so we always get the same sample|\n",
        "|df.head(), /df.tail()| # returns first 5 rows, .head(number)|\n",
        "|df.info()| # returns all infos, cols, Non-null, Count, Dtype|\n",
        "| --- | --- |\n",
        "|df.dtypes| # returns type of every column|\n",
        "|df.shape| # returns tuple with num row/cols|\n",
        "|df.size | # returns number of entries nxm|\n",
        "|df.ndmin| # returns dimensions (for tables, always two D)|\n",
        "|df.describe()| # cnt, mean, std, min, max, quartiles of every column|\n",
        "|df.unique()| # returns unique entries|\n",
        "|df.nunique()| # counts number of unique entries of each row|\n",
        "|df['Col'].value_counts() | # Counts of unique values in a row|\n",
        "|df.corr()|# correlation|"
      ],
      "metadata": {
        "id": "mfW4wQyREU29"
      },
      "id": "mfW4wQyREU29"
    },
    {
      "cell_type": "markdown",
      "source": [
        "---\n",
        "## Manipulating & Datacleaning\n",
        "\n",
        "**Column/row Names**\n",
        "\n",
        "|**Code**|**Description**|\n",
        "| ---- | ---- |\n",
        "|df['Col'].copy()| # supresses changing the original df if we only want change a sample|\n",
        "|df.rename(columns=dicts) | # renames columns with dictionary|\n",
        "|df.rename(mapper = str.strip, axis = 'columns')| # clean column names of whitespaces and tabs|\n",
        "|df.columns = [x.strip().lower() for x in df.columns]| # clean column name with list comprehension|\n",
        "|df.set_index('Col',inplace=True)| # sets 'Col' to be the index, inplace overwrites directly|\n",
        "|df.set_index(['Col1','Col2'])| # multilevel indexing|\n",
        "|df.reset_index()| # shifts index col to be in Frame again, numerical index|\n",
        "|df.sort_index| # sort df by index row|\n",
        "\n",
        "<br>\n",
        "\n",
        "**Add/Drop/Change Rows/Entries**\n",
        "\n",
        "|**Code**|**Description**|\n",
        "| ---- | ---- |\n",
        "|df.drop(List/'Col'_row,axis=1)| # deletes a col, not updating|\n",
        "|df.drop(n,axis=0)| # drop row with index n|\n",
        "|del df['Col'] | # deletes a col, overwrites|\n",
        "|df.drop_duplicates(subset='Col')| # drops repeated rows, identified by subset|\n",
        "|df['Col'] = xxx<br>df.loc[:, 'Col'] = xxx | # Add/Change a column,xxx='' add empty column |\n",
        "|df.loc[condition_mask,'Col'] = newValue| # change specific values|\n",
        "\n",
        "<br>\n",
        "\n",
        "**NaN Manipulation**\n",
        "\n",
        "|**Code**|**Description**|\n",
        "| ---- | ---- |\n",
        "|df.dropna(axis=0/1)| # drops whole row_0, col_1 with NaN, not updating|\n",
        "|df['Col'].fillna(value)| # Fills NaNs with integer value, not updating|\n",
        "|df.fillna(method='ffill'/'bfill')| # Fills forwards/backwards, with the previous value|\n",
        "|df.isnull()||\n",
        "|df.isna()||\n",
        "\n",
        "<br>\n",
        "\n",
        "**Sorting**\n",
        "\n",
        "|**Code**|**Description**|\n",
        "| ---- | ---- |\n",
        "|df.nlargest(n,columns='Col')| # sorts df by 'Col' and returns df with first/last n rows,<br> must have both arguments for df|\n",
        "|df.nsmallest(n,columns='Col')| # select specific cols by chaining indexing operator|\n",
        "|df.sort_values('Col', ascending=False)| # sorts series in descending order,<br>col must be specified if df is sorted, if ds is sorted not|\n",
        "\n",
        "<br>\n",
        "\n",
        "**Change Strings in Entries**\n",
        "\n",
        "|**Code**|**Description**|\n",
        "| ---- | ---- |\n",
        "|df.replace(to_replace='pattern',value='Str', regex=True) | # finds Pattern and replaces it by Str|          \n",
        "|df.replace(dict,inplace = True, regex=True)| # works with dictinary as in rename,<br> regex=True will find replacements anywhere in the df|\n",
        "|df['Col'].str| # str accessor, apply first to access str methods|\n",
        "|df['Col'].str.split('pattern')| # splits entries in df according to pattern|\n",
        "|df['Col'].str.split('pattern').str.get(n)| # get n-th entry of split pattern along whole df|\n",
        "|df['Col'].str.match(r'pattern')| # is true if matches|\n",
        "|pattern='pattern='(?P<First>^[\\w]*)(?\\:.* )(?P<Last>[\\w]\\*$)'<br>df['Col'].str.extract(pattern)| # extract first and Last name with regexes, grouping&naming of regex|\n",
        "\n",
        "<br>\n",
        "\n",
        "**Change Datatypes**\n",
        "\n",
        "|**Code**|**Description**|\n",
        "| ---- | ---- |\n",
        "|df['Col'].astype('float')| # converts to col to floats, errors for NaNs if 'int'|\n",
        "|my_cat = pd.CategoricalDtype(categories=['A-', 'A', 'A+'], ordered=True)| # create an ordered category|\n",
        "|df['Col'].astype(my_cat)| # convert to my own category|\n",
        "|pd.to_numeric(df['Col'], errors='coerce')| # change str to numerics, not updating, coerce forces conversion,<br>if eg 50Euro in str it sets the entry to NaN|\n",
        "|df.select_dtypes(exclude='number')| # only include categorical columns|\n",
        "|df.select_dtypes(include='number')| # only include numerical columns|"
      ],
      "metadata": {
        "id": "34THRKamEorr"
      },
      "id": "34THRKamEorr"
    },
    {
      "cell_type": "markdown",
      "source": [
        "---\n",
        "## Booleans\n",
        "\n",
        "**Boolean Masking**\n",
        "\n",
        "|**Code**|**Description**|\n",
        "| ---- | ---- |\n",
        "|df['col'] > int | # gives boolean series == Mask|\n",
        "|df['col'].gt(int)<br>df['col'].lt(int) | # gives boolean series == Mask, can be chained together |\n",
        "|df['Col'].between(int1, int2) | # between numbers, inclusive OR strings, alphabetical |\n",
        "|df['Col'].isin(List)| # creates mask with strings in lists |\n",
        "|df.isnull() | # creates mask which is true for NaN, use df.isnull().sum() for counting NaNs |\n",
        "|df.notnull() | # inverse of isnull, check for non-missing values|\n",
        "|df1.equal(df2)| # returns True if size and entries are equal|\n",
        "\n",
        "<br>\n",
        "\n",
        "**Operating Masks**\n",
        "\n",
        "|**Code**|**Description**|\n",
        "| ---- | ---- |\n",
        "|df.where(mask) | # operates mask, gives true entries, false == NaN|\n",
        "|df.where(mask).dropna()| # operates mask, only true values of df|\n",
        "|df.loc[mask,:] | # operates using loc, same as .where().dropna() |\n",
        "|df[mask] | # operates mask by Indexing operator|\n",
        "|df.query('Col1 == 'str' & Col2 > int') | # no reference of column names and no querying of df, returns df directly,<br> if Colname with whitespace --> \\`Col 1\\`, reference variable with @variable |"
      ],
      "metadata": {
        "id": "kV0YfMmbE6tT"
      },
      "id": "kV0YfMmbE6tT"
    },
    {
      "cell_type": "markdown",
      "source": [
        "---\n",
        "## Merging/Grouping\n",
        "**Merging**\n",
        "\n",
        "|**Code**|**Description**|\n",
        "| ---- | ---- |\n",
        "|pd.merge(df1, df2, how='outer', left_index=True, right_index=True)|# join, how='outer/inner/left/right'|\n",
        "|df1.merge(df2,left_on='df1_col', right_on='df2_col')|# alternative writing, OR on='Col' if cols are the same index=true copies index|\n",
        "|pd.concat([df1, df2, df3], axis=0/1, ignore_index=True) | # concatuates dataframes, add cols_1, add rows_0,<br>extension of index values with index=True|\n",
        "|pd.concat([df1, df2], keys=['2011','2012'])|# ??? adding extra index|\n",
        "\n",
        "<br>\n",
        "\n",
        "**Grouping**\n",
        "\n",
        "https://pandas.pydata.org/pandas-docs/stable/user_guide/groupby.html\n",
        "\n",
        "|**Code**|**Description**|\n",
        "| ---- | ---- |\n",
        "|List/Str_'fun'= 'fun' OR ['fun1','fun2']|     |\n",
        "|df.groupby('Group').fun(numeric_only=True) | # grouping by direct function, numeric_only=True for only take  colums with numeric values; <br> fun = count,size,sum, mean, std, var, describe, min, max, np.nanmean, np.nanastd, nunique |\n",
        "|df.groupby('Group',as\\_index=False).agg([List/Str_'fun']) | # grouping with agg function, as_index sets col as index |\n",
        "|df.groupby('Group')[List/Str_Col].agg/fun() | # only aggregate of specific cols|\n",
        "|df.groupby('Group').agg({'Col1':List/Str_'fun', ... } ) | # multiple calculatoins with dicts style |\n",
        "|df.groupby('Group').agg(name1=('Col', 'fun'),..) | # multiple calculatoins with  with tuple|\n",
        "|df.groupby(['Group1','Group2']).agg() | # muliple groups |\n",
        "|Examples from Class|------------------------------------|\n",
        "|for group, frame in df.groupby('col'):|# iteration over groups,<br>group gives names of group, frame is df('group')|\n",
        "|for group, frame in df.groupby('Col',func,level=(0,1)): <br>_\\___print(group)| # grouping iteration according to 'Col' or Index # with a function, mulitlevelindexing|\n",
        "|df.groupby('col').filter(lambda x: np.nanmean(x['col'])>9)**| # filter with lambda function, returns Booleean with values only above 9<br>example from first Datascience class|\n",
        "|df['col1'].groupby('col2').transform(fun)|# returns an object with the same size as the group,<br>tranform() broadcasts the function you supply over the grouped|\n"
      ],
      "metadata": {
        "id": "daTFOONoBHpm"
      },
      "id": "daTFOONoBHpm"
    },
    {
      "cell_type": "markdown",
      "source": [
        "---\n",
        "## Date/Time Functionality\n",
        "- classes: Timestamp, DatetimeIndex, Period, Periodindex\n",
        "- https://docs.python.org/3/library/datetime.html#\n",
        "- https://pandas.pydata.org/pandas-docs/stable/reference/series.html#datetimelike-properties"
      ],
      "metadata": {
        "id": "-GCjnoNt6R2O"
      },
      "id": "-GCjnoNt6R2O"
    },
    {
      "cell_type": "markdown",
      "source": [
        "\n",
        "|**Code**|**Description**|\n",
        "| ---- | ---- |\n",
        "|**Creation**|----------------------|\n",
        "|pd.Timestamp('9/1/2019 10:05AM')<br>pd.Timestamp(2019, 1, 9, 10, 5) | # create a Timestamp via string<br> create a Timestamp via integers (year, month, day, hour, minute)<br> can be used as dataframe index|\n",
        "|pd.Period('9/1/2019 10:05AM')<br>pd.Period('9/1/2019 10:05AM')+5|  # creates a Period, which is a timespan with a smallest granularity<br>Addition/Subtration of smallest granularity (#5min)<br> can be used as dataframe index|\n",
        "|pd.Timestamp(('9/1/2019 10:05AM')<br>+ pd.Timedelta('12D 3h'))| # or add a timedelta to a timestamp|\n",
        "|pd.offsets.Week()<br>pd.offsets.MonthEnd()| # special timedeltas to and to get + one week <br> land the end of the month|\n",
        "|pd.date_range('10-01-2016', periods=9, freq='2W-SUN')<br>pd.date_range('10-01-2016', periods=9, freq='B')<br>pd.date_range('04-01-2016', periods=12, freq='QS-JUN')|# create ranges: start at 10/01/2016 for 9 times, every second sunday<br># every Buisness day<br># Or you can do quarterly, with the quarter start in June|\n",
        "|pd.to_datetime(df['Col'],unit='s',dayfirst=True)| # Converts str to datetime type, unit='s' changes unix code to date,<br>dayfirst/yearfirst if unclear yy/mm/dd or dd/mm/yy|\n",
        "|**Getting attributes**|----------------------|\n",
        "|.dt| # datetime accessor, doing datetime methods to all entries of df |\n",
        "|df['Col'].dt.month/year/day/weekday| # get month (number)/year/day(0:31)/weekday(0:6) of date column|\n",
        "|df['Col'].dt.month/day_name()| # get month/day (name) of date column|\n",
        "|df['Col'].dt.strftime('%A, %d %b %y)| # creates string according to code here eg: Monday, 02 Jan 17 <br>https://docs.python.org/3/library/datetime.html#strftime-and-strptime-behavior|\n",
        "|**Calculations/Booleans**|----------------------|\n",
        "|df['Col'].min()/max()/mean()/median()/describe()| # possible methods for datetime type|\n",
        "|df.loc[df['Col'].dt.year == 2018, :]| # use datetimes for boolean masks/filtering, also with &,\\||\n",
        "|df.loc[df['Col'].between('yyyy-mm-dd', 'yyyy-mm-dd')]| # filter for times between, end is exclusive!|\n",
        "|**Grouping with Datetimes**|----------------------------------|\n",
        "|df.groupby([df['DateCol'].dt.year, df['DateCol'].dt.month])['col'].sum()| # Groupby year and month and aggregate, can be plotted directly wit .plot()|\n",
        "|df.resample('M/D', on='DateCol')['Col'].sum()| # Sums up entries of Col by monthly/daily groups, can be plottet by .plot(),<br> output is still a datetime (covering a timespan, indicated with last days of month<br>https://business-science.github.io/pytimetk/guides/03_pandas_frequency.html)|"
      ],
      "metadata": {
        "id": "SqkEyeGjOIhr"
      },
      "id": "SqkEyeGjOIhr"
    },
    {
      "cell_type": "markdown",
      "source": [
        "## First Cleaning Strategy\n",
        "\n",
        "**Data report with ydata**\n",
        "\n",
        "|**Code**|**Description**|\n",
        "| ---- | ---- |\n",
        "|!pip install ydata_profiling<br>from ydata_profiling import ProfileReport<br>report = ProfileReport(df,minimal=True)<br>report.to_file('report.html')| # tool that gives an overview over the data used<br>full or minimal report|\n",
        "|df.copy()| # First do a copy|\n",
        "|df.duplicated().sum()| # Find duplicates and drop theses|\n",
        "|df.info()| # First Overview: Shape, names of columns, missing values, datatypes|\n",
        "|df['Col'].isna().value_counts(normalize=True) or <br> df['Col'].isna().sum() / df.shape[0])*100).round(5)| # Find percentage of missing values in a row|\n",
        "|df = df.loc[~(df['Col'].isna()), :]| # Save without isna, or use dropna |\n",
        "|df['Col'] = pd.to_datetime(df['Col'])| # convert str to datetime |\n",
        "|df['Col'] = pd.to_numeric(df['Col'])| # convert str to numerics|\n",
        "|---<br>df['Col'].str.contains('\\d+\\.\\d+\\.\\d+').value_counts()<br>faulty_list = df.loc[df['Col'].str.contains('\\d+\\.\\d+\\.\\d+'), 'id_order']<br>df = df.loc[~df['id_order'].isin(faulty_list)]| # code to identify faulty entries indicated by 'xxx.xxxx.xx' and delete<br># Count how many strange numbers with regex<br># get id_orders with specified regex<br> # Save df without faulty entries|\n",
        "\n",
        "<br>\n",
        "\n",
        "**Create Categories**\n",
        "\n",
        "|**Code**|**Description**|\n",
        "| ---- | ---- |\n",
        "|df['cat'] = ' '| # Create empty category column|\n",
        "|df.loc[df['Col'].str.contains('pat', case=False)]| # look for pattern in all entries of Col and returns df|\n",
        "|df.loc[df['Col'].str.contains('pat', case=False), 'cat'] =/+= 'whatever'| # sets cat column to 'whatever' for all found entries OR use += to add more categories|"
      ],
      "metadata": {
        "id": "slbuX05ceHqP"
      },
      "id": "slbuX05ceHqP"
    },
    {
      "cell_type": "markdown",
      "source": [
        "---\n",
        "## Plotting with Pandas\n",
        "\n",
        "https://pandas.pydata.org/docs/reference/api/pandas.DataFrame.plot.html\n",
        "\n",
        "|**Code**|**Description**|\n",
        "| ---- | ---- |\n",
        "|x = df['Col'] | # Column we want to plot |\n",
        "|df.plot() | # lineplot of dataseries, with x as indices|\n",
        "|df.something(figsize=(12,8),s=350,color=List,ylim=int) | # Changing Figuresize, dotsize, color, limit|\n",
        "|df.plot.line(x='Col_x', y='Col_y') | # lineplot, with x and y in columns|\n",
        "|x.hist(bin=int, range=(xmin,xmax)) | # histogram, chops cols intos num of bins with specific xrange |\n",
        "|x.value_counts().plot.bar() | # bar plot of frequencies of categories, ticks specified by x.index=List|\n",
        "|df.plot.scatter(x = 'Col1', y = 'Col2') | # Scatter plot|\n",
        "|df.plot.scatter(x = 'Col1', y = 'Col2', c = 'Col3', cmap='viridis') | # color code of third dimension of Col3, cmap=colormap|\n",
        "|df.boxplot(by='Col_x',column='Col_y') | # Boxplot|\n"
      ],
      "metadata": {
        "id": "VsE259zEFIxj"
      },
      "id": "VsE259zEFIxj"
    },
    {
      "cell_type": "markdown",
      "source": [
        "---\n",
        "## Pandorable Stuff"
      ],
      "metadata": {
        "id": "GcMqIov9Ht72"
      },
      "id": "GcMqIov9Ht72"
    },
    {
      "cell_type": "code",
      "execution_count": null,
      "id": "33ce5c80-4a29-4370-9e4f-6ac010920df8",
      "metadata": {
        "id": "33ce5c80-4a29-4370-9e4f-6ac010920df8",
        "outputId": "fe5c7714-4225-43a3-8e6d-6fc8e018948c"
      },
      "outputs": [
        {
          "data": {
            "text/html": [
              "<div>\n",
              "<style scoped>\n",
              "    .dataframe tbody tr th:only-of-type {\n",
              "        vertical-align: middle;\n",
              "    }\n",
              "\n",
              "    .dataframe tbody tr th {\n",
              "        vertical-align: top;\n",
              "    }\n",
              "\n",
              "    .dataframe thead th {\n",
              "        text-align: right;\n",
              "    }\n",
              "</style>\n",
              "<table border=\"1\" class=\"dataframe\">\n",
              "  <thead>\n",
              "    <tr style=\"text-align: right;\">\n",
              "      <th></th>\n",
              "      <th></th>\n",
              "      <th>SUMLEV</th>\n",
              "      <th>CENSUS2010POP</th>\n",
              "      <th>ESTIMATESBASE2010</th>\n",
              "    </tr>\n",
              "    <tr>\n",
              "      <th>STNAME</th>\n",
              "      <th>CTYNAME</th>\n",
              "      <th></th>\n",
              "      <th></th>\n",
              "      <th></th>\n",
              "    </tr>\n",
              "  </thead>\n",
              "  <tbody>\n",
              "    <tr>\n",
              "      <th rowspan=\"5\" valign=\"top\">Alabama</th>\n",
              "      <th>Alabama</th>\n",
              "      <td>40</td>\n",
              "      <td>4779736</td>\n",
              "      <td>4780127</td>\n",
              "    </tr>\n",
              "    <tr>\n",
              "      <th>Autauga County</th>\n",
              "      <td>50</td>\n",
              "      <td>54571</td>\n",
              "      <td>54571</td>\n",
              "    </tr>\n",
              "    <tr>\n",
              "      <th>Baldwin County</th>\n",
              "      <td>50</td>\n",
              "      <td>182265</td>\n",
              "      <td>182265</td>\n",
              "    </tr>\n",
              "    <tr>\n",
              "      <th>Barbour County</th>\n",
              "      <td>50</td>\n",
              "      <td>27457</td>\n",
              "      <td>27457</td>\n",
              "    </tr>\n",
              "    <tr>\n",
              "      <th>Bibb County</th>\n",
              "      <td>50</td>\n",
              "      <td>22915</td>\n",
              "      <td>22919</td>\n",
              "    </tr>\n",
              "  </tbody>\n",
              "</table>\n",
              "</div>"
            ],
            "text/plain": [
              "                        SUMLEV  CENSUS2010POP  ESTIMATESBASE2010\n",
              "STNAME  CTYNAME                                                 \n",
              "Alabama Alabama             40        4779736            4780127\n",
              "        Autauga County      50          54571              54571\n",
              "        Baldwin County      50         182265             182265\n",
              "        Barbour County      50          27457              27457\n",
              "        Bibb County         50          22915              22919"
            ]
          },
          "execution_count": 65,
          "metadata": {},
          "output_type": "execute_result"
        }
      ],
      "source": [
        "# +++++++++++++++ MULTILEVEL INDEXING +++++++++++++++++++++\n",
        "# new example\n",
        "import pandas as pd\n",
        "df = pd.read_csv('week-2/datasets/census.csv')\n",
        "df = df[['STNAME','CTYNAME','SUMLEV','CENSUS2010POP','ESTIMATESBASE2010']]\n",
        "df = df.set_index(['STNAME','CTYNAME'])\n",
        "df.head()"
      ]
    },
    {
      "cell_type": "code",
      "execution_count": null,
      "id": "76af3441-7235-44c2-ac97-d0791e6a4f3e",
      "metadata": {
        "id": "76af3441-7235-44c2-ac97-d0791e6a4f3e",
        "outputId": "74caa321-71f2-4969-8b8b-78eaa40a0b87"
      },
      "outputs": [
        {
          "data": {
            "text/html": [
              "<div>\n",
              "<style scoped>\n",
              "    .dataframe tbody tr th:only-of-type {\n",
              "        vertical-align: middle;\n",
              "    }\n",
              "\n",
              "    .dataframe tbody tr th {\n",
              "        vertical-align: top;\n",
              "    }\n",
              "\n",
              "    .dataframe thead th {\n",
              "        text-align: right;\n",
              "    }\n",
              "</style>\n",
              "<table border=\"1\" class=\"dataframe\">\n",
              "  <thead>\n",
              "    <tr style=\"text-align: right;\">\n",
              "      <th></th>\n",
              "      <th></th>\n",
              "      <th>SUMLEV</th>\n",
              "      <th>CENSUS2010POP</th>\n",
              "      <th>ESTIMATESBASE2010</th>\n",
              "    </tr>\n",
              "    <tr>\n",
              "      <th>STNAME</th>\n",
              "      <th>CTYNAME</th>\n",
              "      <th></th>\n",
              "      <th></th>\n",
              "      <th></th>\n",
              "    </tr>\n",
              "  </thead>\n",
              "  <tbody>\n",
              "    <tr>\n",
              "      <th rowspan=\"2\" valign=\"top\">Michigan</th>\n",
              "      <th>Washtenaw County</th>\n",
              "      <td>50</td>\n",
              "      <td>344791</td>\n",
              "      <td>345066</td>\n",
              "    </tr>\n",
              "    <tr>\n",
              "      <th>Wayne County</th>\n",
              "      <td>50</td>\n",
              "      <td>1820584</td>\n",
              "      <td>1820641</td>\n",
              "    </tr>\n",
              "  </tbody>\n",
              "</table>\n",
              "</div>"
            ],
            "text/plain": [
              "                           SUMLEV  CENSUS2010POP  ESTIMATESBASE2010\n",
              "STNAME   CTYNAME                                                   \n",
              "Michigan Washtenaw County      50         344791             345066\n",
              "         Wayne County          50        1820584            1820641"
            ]
          },
          "execution_count": 66,
          "metadata": {},
          "output_type": "execute_result"
        }
      ],
      "source": [
        "# access ROWS level 0 and level 1\n",
        "df.loc['Michigan','Washtenaw County']\n",
        "# or multiple rows -> tuples\n",
        "df.loc[ [('Michigan', 'Washtenaw County'),('Michigan', 'Wayne County')] ]\n",
        "# access COLS # see colums\n",
        "# -> either transpose df.T.loc('BIRTH2010') or projecting a single column df['BIRTHS2010']"
      ]
    },
    {
      "cell_type": "code",
      "execution_count": null,
      "id": "41b27c2c-ac3f-462a-abac-ca0208368a49",
      "metadata": {
        "id": "41b27c2c-ac3f-462a-abac-ca0208368a49",
        "outputId": "6d7d256a-92ac-4b28-e2df-055d8af99bb3"
      },
      "outputs": [
        {
          "data": {
            "text/html": [
              "<div>\n",
              "<style scoped>\n",
              "    .dataframe tbody tr th:only-of-type {\n",
              "        vertical-align: middle;\n",
              "    }\n",
              "\n",
              "    .dataframe tbody tr th {\n",
              "        vertical-align: top;\n",
              "    }\n",
              "\n",
              "    .dataframe thead th {\n",
              "        text-align: right;\n",
              "    }\n",
              "</style>\n",
              "<table border=\"1\" class=\"dataframe\">\n",
              "  <thead>\n",
              "    <tr style=\"text-align: right;\">\n",
              "      <th></th>\n",
              "      <th>STNAME</th>\n",
              "      <th>CTYNAME</th>\n",
              "      <th>POPESTIMATE2010</th>\n",
              "      <th>POPESTIMATE2011</th>\n",
              "      <th>POPESTIMATE2012</th>\n",
              "      <th>POPESTIMATE2013</th>\n",
              "      <th>max</th>\n",
              "      <th>min</th>\n",
              "    </tr>\n",
              "  </thead>\n",
              "  <tbody>\n",
              "    <tr>\n",
              "      <th>0</th>\n",
              "      <td>Alabama</td>\n",
              "      <td>Alabama</td>\n",
              "      <td>4785161</td>\n",
              "      <td>4801108</td>\n",
              "      <td>4816089</td>\n",
              "      <td>4830533</td>\n",
              "      <td>4830533</td>\n",
              "      <td>4785161</td>\n",
              "    </tr>\n",
              "    <tr>\n",
              "      <th>1</th>\n",
              "      <td>Alabama</td>\n",
              "      <td>Autauga County</td>\n",
              "      <td>54660</td>\n",
              "      <td>55253</td>\n",
              "      <td>55175</td>\n",
              "      <td>55038</td>\n",
              "      <td>55253</td>\n",
              "      <td>54660</td>\n",
              "    </tr>\n",
              "    <tr>\n",
              "      <th>2</th>\n",
              "      <td>Alabama</td>\n",
              "      <td>Baldwin County</td>\n",
              "      <td>183193</td>\n",
              "      <td>186659</td>\n",
              "      <td>190396</td>\n",
              "      <td>195126</td>\n",
              "      <td>195126</td>\n",
              "      <td>183193</td>\n",
              "    </tr>\n",
              "    <tr>\n",
              "      <th>3</th>\n",
              "      <td>Alabama</td>\n",
              "      <td>Barbour County</td>\n",
              "      <td>27341</td>\n",
              "      <td>27226</td>\n",
              "      <td>27159</td>\n",
              "      <td>26973</td>\n",
              "      <td>27341</td>\n",
              "      <td>26973</td>\n",
              "    </tr>\n",
              "    <tr>\n",
              "      <th>4</th>\n",
              "      <td>Alabama</td>\n",
              "      <td>Bibb County</td>\n",
              "      <td>22861</td>\n",
              "      <td>22733</td>\n",
              "      <td>22642</td>\n",
              "      <td>22512</td>\n",
              "      <td>22861</td>\n",
              "      <td>22512</td>\n",
              "    </tr>\n",
              "  </tbody>\n",
              "</table>\n",
              "</div>"
            ],
            "text/plain": [
              "    STNAME         CTYNAME  POPESTIMATE2010  POPESTIMATE2011  POPESTIMATE2012  \\\n",
              "0  Alabama         Alabama          4785161          4801108          4816089   \n",
              "1  Alabama  Autauga County            54660            55253            55175   \n",
              "2  Alabama  Baldwin County           183193           186659           190396   \n",
              "3  Alabama  Barbour County            27341            27226            27159   \n",
              "4  Alabama     Bibb County            22861            22733            22642   \n",
              "\n",
              "   POPESTIMATE2013      max      min  \n",
              "0          4830533  4830533  4785161  \n",
              "1            55038    55253    54660  \n",
              "2           195126   195126   183193  \n",
              "3            26973    27341    26973  \n",
              "4            22512    22861    22512  "
            ]
          },
          "execution_count": 78,
          "metadata": {},
          "output_type": "execute_result"
        }
      ],
      "source": [
        "# Acces through columns with Apply Function (pandorable idiom)\n",
        "# Example, min and max data of multiple rows\n",
        "# 2) output into old dataframe\n",
        "def min_max(row):\n",
        "    data = row[['POPESTIMATE2010',\n",
        "                'POPESTIMATE2011',\n",
        "                'POPESTIMATE2012',\n",
        "                'POPESTIMATE2013']]\n",
        "    # Create a new entry for max\n",
        "    row['max'] = np.max(data)\n",
        "    # Create a new entry for min\n",
        "    row['min'] = np.min(data)\n",
        "    return row\n",
        "# Now just apply the function across the dataframe\n",
        "df.apply(min_max, axis='columns').head()"
      ]
    },
    {
      "cell_type": "code",
      "execution_count": null,
      "id": "cb978535-0ffb-4270-b04a-0816788e72ae",
      "metadata": {
        "id": "cb978535-0ffb-4270-b04a-0816788e72ae",
        "outputId": "d8c13ef3-e5ec-4804-998a-458ecd16b821"
      },
      "outputs": [
        {
          "data": {
            "text/plain": [
              "0    4830533\n",
              "1      55253\n",
              "2     195126\n",
              "3      27341\n",
              "4      22861\n",
              "dtype: int64"
            ]
          },
          "execution_count": 79,
          "metadata": {},
          "output_type": "execute_result"
        }
      ],
      "source": [
        "# 3) alternatively with lambda functions\n",
        "rows = ['POPESTIMATE2010', 'POPESTIMATE2011', 'POPESTIMATE2012', 'POPESTIMATE2013']\n",
        "# Now we'll just apply this across the dataframe with a lambda\n",
        "df.apply(lambda x: np.max(x[rows]), axis=1).head()     # == np.max(df[rows],axis=1)"
      ]
    },
    {
      "cell_type": "markdown",
      "source": [
        "---\n",
        "---\n",
        "# Plotting with Seaborn"
      ],
      "metadata": {
        "id": "6hLF6YXwuyon"
      },
      "id": "6hLF6YXwuyon"
    },
    {
      "cell_type": "markdown",
      "source": [
        "\n",
        "https://seaborn.pydata.org/tutorial.html\n",
        "\n",
        "https://seaborn.pydata.org/tutorial/function_overview.html\n",
        "\n",
        "![Screenshot 2024-08-19 101514.png](data:image/png;base64,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)\n",
        "\n",
        "|**Code**|**Description**|\n",
        "| ---- | ---- |\n",
        "|import seaborn as sns<br>import warnings<br>warnings.filterwarnings('ignore') | # Import Seaborn<br>Ignore warnings |\n",
        "|titanic = sns.load_dataset('titanic')| # import famous database|"
      ],
      "metadata": {
        "id": "MwUJQjHdtJSr"
      },
      "id": "MwUJQjHdtJSr"
    },
    {
      "cell_type": "markdown",
      "source": [
        "---\n",
        "## Categorical plots\n",
        "\n",
        "https://seaborn.pydata.org/tutorial/categorical.html\n",
        "\n",
        "https://seaborn.pydata.org/generated/seaborn.catplot.html\n",
        "\n",
        "Categorical estimate plots:\n",
        "* pointplot() (with kind='point')\n",
        "* barplot() (with kind='bar')\n",
        "* countplot() (with kind='count')\n",
        "\n",
        "Categorical distribution plots:\n",
        "* boxplot() (with kind='box')\n",
        "* violinplot() (with kind='violin')\n",
        "* boxenplot() (with kind='boxen')\n",
        "\n",
        "Categorical scatterplots:\n",
        "* stripplot() (with kind='strip'; the default)\n",
        "* swarmplot() (with kind='swarm')\n",
        "\n",
        "|**Code**|**Description**|\n",
        "| ---- | ---- |\n",
        "|sns.xxplot(... hue='Col')| # hue=subdivion of bars|\n",
        "|sns.xxplot(...,col='name',row='name2'\\|col_wrap=int)| # group by category name in cols and by category name2 in rows have multiple figures,<br>wrap puts plots in the next row|\n",
        "|sns.xxxplot(...,height=8)| # change heigt (and width with same aspect ratio)|\n",
        "|sns.xxplot(...,aspect=3)| # ratio of each facet, so that aspect * height gives the width of each facet in inches.'<br>It's probably more easily undorstood as affecting the width of the plot|\n",
        "|sns.xxplot(...,color='red'\\|palette='rocket')|# change color or use palette<br>https://seaborn.pydata.org/tutorial/color_palettes.html|\n",
        "|sns.xxplot(...).set(title=f'str')<br>.set_axis_labels('xlabel', 'ylabel')| # chaning axis and title|\n",
        "|Catplot|+++++++++++++++++++++++++|\n",
        "|sns.catplot(data=df,x='Col_x',y='Col_y);| # by default stripplot (scatterplot by category)|\n",
        "|sns.catplot(kind='bar',data=titanic, x='class', y='fare', hue='sex')| # barplot of categorical data with confidence intervall, hue=subdivion of bars|\n",
        "|sns.catplot(kind='count',data=df,x='Col_x',hue='Col')| # barplot (without confidence interval)|\n",
        "\n"
      ],
      "metadata": {
        "id": "zmFkyi__uI7p"
      },
      "id": "zmFkyi__uI7p"
    },
    {
      "cell_type": "markdown",
      "source": [
        "---\n",
        "## Distribution plots\n",
        "\n",
        "https://seaborn.pydata.org/generated/seaborn.displot.html\n",
        "\n",
        "https://seaborn.pydata.org/tutorial/distributions.html\n",
        "\n",
        "kinds of .displot():\n",
        "* .histplot() - kind='hist' the default\n",
        "* .kdeplot() - kind='kde', kernel density estimation = probability density function\n",
        "* .ecdfplot() -kind='ecdf', empirical cumulative distributions\n",
        "\n",
        "|**Code**|**Description**|\n",
        "| ---- | ---- |\n",
        "|sns.displot(data=df,x='Col')| # by default, histogram with count|\n",
        "|sns.displot(..., stat='percent')| # changing aggregates of the histogam<br>count: show the number of observations in each bin<br>frequency: show the number of observations<br>probability: or proportion: normalize such that bar heights sum to 1<br>percent: normalize such that bar heights sum to 100<br>density: normalize such that the total area of the histogram equals 1|\n",
        "|sns.displot(...,bins=30 \\| binswidth=2)| # change granularity,<br>the higher the number of bins, or smaller the binwidth the greater the granularity|\n",
        "|sns.displot(...,kde=True)| # overlay of probability of distribution to a histogram|\n",
        "|sns.displot(kind='kde',data=df,x='Col',bw_adjust=0.2)| # probability density function, change smoothness with bw_adjust \\< 1|\n"
      ],
      "metadata": {
        "id": "0rWCVO3R4ByL"
      },
      "id": "0rWCVO3R4ByL"
    },
    {
      "cell_type": "markdown",
      "source": [
        "---\n",
        "## Relational data plots\n",
        "\n",
        "https://seaborn.pydata.org/generated/seaborn.relplot.html\n",
        "\n",
        "https://seaborn.pydata.org/tutorial/relational.html\n",
        "\n",
        "kinds of .relplot()\n",
        "* .scatterplot() - kind='scatter' the default\n",
        "* .lineplot() - kind='line'\n",
        "\n",
        "|**Code**|**Description**|\n",
        "| ---- | ---- |\n",
        "|sns.relplot(data=df,x='Col_x',y='Col_y')| # scatterplot by default|\n",
        "|sns.relplot(...,style='Col')| # style introduces different symbols/markers|\n",
        "\n"
      ],
      "metadata": {
        "id": "vi1JmtDT4Fc7"
      },
      "id": "vi1JmtDT4Fc7"
    },
    {
      "cell_type": "markdown",
      "source": [
        "---\n",
        "---\n",
        "\n",
        "# Plotting with matplotlib"
      ],
      "metadata": {
        "id": "XcBVSmaAnJoR"
      },
      "id": "XcBVSmaAnJoR"
    },
    {
      "cell_type": "markdown",
      "source": [
        "|**Code**|**Description**|\n",
        "| ---- | ---- |\n",
        "|%matplotlib notebook | # enables interactive plotting within jupyter notebooks|\n",
        "|import matplotlib.pyplot as plt| # import|\n",
        "|plt.figure(figsize=(12,6))| # set figure size|\n",
        "|plt.plot(x, y, color='red', lw=3, label=str)| # plot, set color, set linewidth, label|\n",
        "|plt.hist(ages, bins=30)| # create histogram|\n",
        "|plt.ylim(y0, y1)|# Show values on the y-axis between y0 and y1|\n",
        "|plt.title('title')| # give title|\n",
        "|plt.legend()| # plot legend |\n",
        "|plt.show()| # show plot|\n",
        "|plt.vlines(x_0,ymin=int,ymax=int)| # plot vertical line at x_0 |\n",
        "|plt.fill_between(x,y,where=(Condition1))| # fill area under curve y(x) at condition1<br> multiple conditions via pipe operator|"
      ],
      "metadata": {
        "id": "KlxMokGniLcw"
      },
      "id": "KlxMokGniLcw"
    },
    {
      "cell_type": "markdown",
      "source": [
        "---\n",
        "---\n",
        "# Data Engineering\n",
        "\n",
        "https://towardsdatascience.com/data-scientists-without-data-engineering-skills-will-face-the-harsh-truth-ff482a223ddc"
      ],
      "metadata": {
        "id": "MozICW3AxCaA"
      },
      "id": "MozICW3AxCaA"
    },
    {
      "cell_type": "markdown",
      "source": [
        "## WebScraping with Beautiful Soup\n",
        "\n",
        "Beautiful Soup documentation:\n",
        "\n",
        "https://www.crummy.com/software/BeautifulSoup/bs4/doc/\n",
        "\n",
        "**HTML elements**\n",
        "\n",
        " https://www.w3schools.com/tags/default.asp<br>\n",
        "\n",
        "|**Tag**|**Form: \\<Tag\\> txt_displayed \\</Tag\\>**|\n",
        "| ---- | ---- |\n",
        "|title| # Defines a title for the document|\n",
        "|head| # Contains metadata/information for the document|\n",
        "|body| #  \tDefines the document's body|\n",
        "|p| # Defines a paragraph|\n",
        "|b| # Defines bold text|\n",
        "|a| # Defines a hyperlink|\n",
        "|tr| # Defines a row in a table|\n",
        "|th| #Defines a header cell in a table|\n",
        "\n",
        "<br>\n",
        "\n",
        "|**attribute**|**Form: \\<Tag attribute='attribute_name'> txt_displayed \\</Tag\\>**|\n",
        "| ---- | ---- |\n",
        "|class| # Class selector are used to style multiple HTML elements that share a common characteristic or function (CSS selector)|\n",
        "|id| # ID selectors are used to style single HTML elements (CSS selector)|\n",
        "|meta| # other attributes, which can be equally useful for identifying and targeting specific data points|\n",
        "|href| # hyperlink|\n",
        "|b| # Defines bold text|\n",
        "|a| # Defines a hyperlink|\n",
        "\n",
        "<br>\n",
        "\n",
        "**Navigating HTML Code**\n",
        "\n",
        "|**Code**|**Description**|\n",
        "| ---- | ---- |\n",
        "|import requests<br>from bs4 import BeautifulSoup| # import|\n",
        "|soup = BeautifulSoup(html_doc, 'html.parser')| # transforms HTML code into soup object |\n",
        "|url = 'url'<br>response = requests.get(url)<br>soup = BeautifulSoup(response.content, 'html.parser')| # Loading a html|\n",
        "|print(soup.prettify())| # make html tree more pretty|\n",
        "|**Find Tags OR Attributes**|++++++++++++++++++++++++|\n",
        "|soup.find_all('tag')| # find tags like \\<title\\>, returns a list of all matching (and nested) HTML tags<br> within the current document. If no matching tags exist, an empty list is returned.|\n",
        "|soup.find_all(attribute='name_attribute')| # search by a attribute, eg class, everything containing 'name_attribute' |\n",
        "|soup.find_all(string='txt')| # search by string, txt is what is displayed on the webpage|\n",
        "|import re<br>soup.find_all(string=re.compile('txt', re.IGNORECASE))| # find substrings with re|\n",
        "|soup.find()| # only returns first element, instead of all like find_all|\n",
        "|**Find Tags & Attributes**|+++++++++++++++++++++++|\n",
        "|soup.find_all('tag', attribute='attribute_name')| # query tags and attributes at the same time|\n",
        "|soup.select('tag.attribute_name')| #  query tag and attribute at the same time|\n",
        "|soup.select('p.story a#link2')|#  let's extract all the \\<a\\> tags with the id 'link2' that are within \\<p\\> tags with the class 'story' |\n",
        "|**Extract**|++++++++++++++++++++++++|\n",
        "|soup.find_all('title')[0].get_text()| # extract text by html tags, only works for tags (no lists with tags)|\n",
        "|story = soup.find_all('p')<br>for p in story:<br>print(p.get_text())| # extract tags for multiple items (here paragraphs)|\n",
        "|soup.find_all(attribute='attribute1')[0]['attribute2']| # extract attribute2, first find everything which contains 'attribute1'<br>and then only give back attribute2 |\n",
        "|**Navigating**|++++++++++++++++++++++++|\n",
        "|last_link = soup.find(attribute='attribute_name')<br>last_link.find_next()<br>last_link.find_previous()| # last link is a tag object<br># move forward one element<br> # move backward one element|\n",
        "|last_link.find_parent()<br>last_link.find_parents()| # move above in one tree<br> # gives all parents |\n",
        "|last_link.find_next_siblings()| # move left and right in a tree|"
      ],
      "metadata": {
        "id": "yu5_qE2KxJD-"
      },
      "id": "yu5_qE2KxJD-"
    },
    {
      "cell_type": "markdown",
      "source": [
        "---\n",
        "## Connecting Python and MySQL\n",
        "\n",
        "**From Python to SQL and Back**\n",
        "\n",
        "|**Code**|**Description**|\n",
        "| ---- | ---- |\n",
        "|!pip install sqlalchemy<br>!pip install pymysql| # install packages|\n",
        "|flat_df, cities_df| # split a non relational table into df,<br>which contains information about e.g. cities|\n",
        "|schema = 'name_sql_workbench'<br>host = '127.0.0.1'<br>user = 'root'<br>password = 'SQL_PASSWORD'<br>port = 3306<br>connection_string = f'mysql+pymysql://{user}:{password}@{host}:{port}/{schema}'| # set up connection string|\n",
        "|cities_df.to_sql('cities',if_exists='append',con=connection_string,index=False)| # send cities_df to SQL, appending to current information,<br>doesn't include index|\n",
        "|cities_df = pd.read_sql('cities', con=connection_string)| # read cities table from SQL with unique ids|\n",
        "|pd.read_sql(<br>'''SELECT DISTINCT city_name, country<br>FROM cities<br> ''',<br>con=connection_string)| # SQL query in python|\n",
        "|pop_df = flat_df.merge(<br>cities_df[['city_name','city_id']],<br> on = 'city_name',<br>how ='left')<br>pop_df = pop_df.drop(columns=['Col1','Col2'])| # implement city id's into pop_df, then send it to sql again|\n"
      ],
      "metadata": {
        "id": "E--K9ytGIp_S"
      },
      "id": "E--K9ytGIp_S"
    },
    {
      "cell_type": "markdown",
      "source": [
        "---\n",
        "## APIS\n",
        "\n",
        "Json documentation: https://docs.python.org/3/library/json.html\n",
        "Some APIs: https://api-ninjas.com/api/city\n",
        "\n",
        "\n",
        "|**Code**|**Description**|\n",
        "| ---- | ---- |\n",
        "|import request| # import library, https://docs.python-requests.org/en/latest/|\n",
        "|url = 'https://www.someurl.com/'| # normal url|\n",
        "|s = request.get(url)||\n",
        "|s.status_code| # returns resonse 200 (success), 400 (client errors), 500 (server error)|\n",
        "|s.text| # returns html code of url |\n",
        "|url_api = 'https://api.someurl.com?key1=spec1&key2=spec2'| # urls with specified keys to get specified info of API|\n",
        "| response = request.get(url_api,headers={'X_Api-Key':'my_api_key'}) | # returns response (kind of object), see documentation for all apis,<br>header if API key is neccessary|\n",
        "|header={'X-Api-Key': 'my_api_key'}<br>querystring = {'key1': 'spec1', 'key2': 'spec2'}<br>requests.request('GET', url, headers=header,params=querystring)| # alternative, seperate url, parameters|\n",
        "|response.text| # returns information as string|\n",
        "|response.json() | # returns dictionary with information|\n",
        "|pd.json_normalize()| # flattens json, kind of transposing but with repeated values in a row|\n"
      ],
      "metadata": {
        "id": "55H5QirSqrM_"
      },
      "id": "55H5QirSqrM_"
    },
    {
      "cell_type": "markdown",
      "source": [
        "---\n",
        "---\n",
        "# Statistics"
      ],
      "metadata": {
        "id": "QiyLS6Sw2Y1T"
      },
      "id": "QiyLS6Sw2Y1T"
    },
    {
      "cell_type": "markdown",
      "source": [
        "## Coinfidence Interval\n",
        "\n",
        "|**Code**|**Description**|\n",
        "| ---- | ---- |\n",
        "|sample_size = 500 | # definde a sample size|                \n",
        "|sample_ds = population_ds.sample(n = sample_size, replace = True)| # take a sample with replacement of a known population,<br>for comparisons: random_state = int|\n",
        "|µ = population_ds.mean()| # calculate population mean|\n",
        "|x_bar = sample_ds.mean()<br>s = sample_ds.std()| # calculate mean and s|\n",
        "|SE = s / (sample_size**0.5)  | # calculate Standard Error SE, SE= s/sqrt(n)|\n",
        "|x_upper = x_bar + (Zscore \\* SE)<br>x_lower = x_bar - (Zscore \\* SE)| # calculate upper and lower boundaries|\n",
        "|print(f'We are 99% confident that the true population mean lies between {x_lower:.2f} and {x_upper:.2f}.')| # statement|\n",
        "|plt.hist(ages, bins=30)<br>plt.title('Age distribution of WBS City 2')<br>plt.xlabel('Age')<br>plt.ylabel('Frequency')<br>plt.axvline(x=x_lower, color='red')<br>plt.axvline(x=upper_boundary, color='red')<br>plt.axvline(x=mu, color='purple')<br>plt.show()|# Create a histogram to visualise the distribution|\n",
        "\n",
        "<br>\n",
        "\n",
        "|**Zscore**|**Coinfidence Intervall**|\n",
        "| ---- | ---- |\n",
        "|2.5758|99%|\n",
        "|1.95|95%|\n"
      ],
      "metadata": {
        "id": "zxnKojXH2ZWN"
      },
      "id": "zxnKojXH2ZWN"
    },
    {
      "cell_type": "markdown",
      "source": [
        "---\n",
        "## Hypothesis testing\n",
        "\n",
        "https://www.youtube.com/watch?v=QzAXW7kQ0I8\n",
        "\n",
        "Possible metrics are:\n",
        "* CTR, click-through rate, clicks/total visits\n",
        "* Drop-off rate for a page, percentage of visitors who initiate a conversion but do not complete it\n",
        "* Homepage-return rate (should be low), measure how often users return to the homepage after clicking the button (do they find everything they need?)\n",
        "\n",
        "**General Structure**\n",
        "\n",
        "1. **Define your Hypotheses**, different for every test\n",
        "2.**Select significance level $\\alpha$**, we allow for x% chance that the observed differences is due to chance\n",
        "  * coinfidence level = 100 - significance level<br>\n",
        "  * small $\\alpha$, more strict $\\alpha$ = 0.01,0.1 (reduce Type 1 error, increase Type 2 error)\n",
        "  * average $\\alpha$ = 0.05\n",
        "  * large $\\alpha$ = 0.1\n",
        "3. **Collect data** independent and unbiased\n",
        "4. Calculate the test results\n",
        "5. Interprete the results:\n",
        "\n",
        "|**Code**|**Description**|\n",
        "| ---- | ---- |\n",
        "|if (abs(tscore) < abs(critical_value)):<br>print('''No recjection of H0. The difference of the observed variable is likely<br>due to chance/not statistically significant''')<br>else:<br>print('''Null hypotheses is rejected, the difference of the observed variable<br>is likely not by chance/statistically significant.''') | # \\|tscore\\| < \\|critical_value\\|<br> no rejection of $H_0$<br> # \\|tscore\\| > \\|critical_value\\|<br> rejection of $H_0$, <br> For $\\chi^2$ use this instead tscore|\n",
        "|if pvalue > alpha:<br>print(f'''Its not sufficiently unlikely that this differnce was due to chance,<br>so we will not reject the null hypothesis''')<br>else:<br>print('''Reject the null hypothesis. The difference of the observed variable is<br>unlikely due to chance.''')| # pvalue > $\\alpha$<br> no rejection of H0<br> pvalue < $\\alpha$ <br> rejection of H0|\n",
        "\n",
        "---\n",
        "**1 sample t-test**\n",
        "* Null Hypotheses: Population mean num,  $H_0: µ =$ num<br>Alternative\n",
        "* Hypthoses: $H_A:  µ\\not=$ num\n",
        "* critical values: https://www.statology.org/how-to-read-t-distribution-table/\n",
        "\n",
        "|**Code**|**Description**|\n",
        "| ---- | ---- |\n",
        "|from scipy.stats import t, norm, ttest_1samp| # import from scipy|\n",
        "|alpha = 0.01<br>mu = 1<br>x_bar = data.mean()<br>sample_size = len(data)<br>s = data.std()<br>se = s/(sample_size**0.5)<br>tscore = (x_bar - mu) / se| # set significance level<br> # set population mean<br> # calculate sample mean<br> # sample size<br># calculate sample standard deviation<br> # calculate standard error<br> # calculate t_score|\n",
        "|critical_value_2_tailed = t.ppf(1-alpha/2, df=sample_size-1)| # get critical value, /2 because two tailed|\n",
        "|tscore, pvalue = ttest_1samp(a = pd.Series(data), popmean = mu, alternative='two-sided') | # shortcut to get tscore and p-value|\n",
        "\n",
        "  - $H_0$ not rejected. The difference detected in this sample to the population is likely due to chance<br>\n",
        "  - $H_0$ rejected, the difference of the sample mean to the assumend population mean is statistically significant,<br> $H_0$ should be considered again\n",
        "\n",
        "---\n",
        "**2 sample t-test**\n",
        "* eg two versions of webpage & track session time of each user\n",
        "* Null Hypothesis $H_0: µ_A = µ_B$, average session times are equal\n",
        "* Alternative Hypthesis $H_A: µ_A\\not=µ_B$\n",
        "* critical values: https://www.statology.org/how-to-read-t-distribution-table/\n",
        "\n",
        "|**Code**|**Description**|\n",
        "| ---- | ---- |\n",
        "|from scipy.stats import t, ttest_ind| # import from scipy|\n",
        "|alpha = 0.01<br>x_bar_a/b = data_a/b.mean<br>sample_size_a/b = len(data_a/b)<br>v_a/b = data_a/b.var()<br>t_score = (x_bar_a - x_bar_b) / ((v_a / n_a) + (v_b / n_b))**0.5| # calculate t_score|\n",
        "|se = (s2_1/n_1 + s2_2/n_2)\\*\\*0.5| # calculate standard error|\n",
        "|numerator = ((s2_1 / n_1) + (s2_2 / n_2))\\*\\*2<br>denominator = ((s2_1 / n_1)**2 / (n_1 - 1)) + ((s2_2 / n_2)**2 / (n_2 - 1))<br>degrees_of_freedom = numerator / denominator| # calculate degree of freedom for Welch's test|\n",
        "|???critical_value_2_tailed = t.ppf(1-alpha/2, df=sample_size-1)| # get critical value, /2 because two tailed|\n",
        "|tscore_2, pvalue_2 = ttest_ind(a = data_a, b = data_b, alternative='two-sided', equal_var=False)  | # shortcut to get tscore and p-value,<br>equal_var=False -> welchs t test|\n",
        "\n",
        "  - $H_0$ is not rejected, it is not sufficiently unlikely that this differnce in population means was due to chances<br>\n",
        "  - $H_0$ rejected, the difference in average session times are unlikely due to chance. In the taken sample people spend more time on website A/B.\n",
        "---\n",
        "**$\\chi^2$ test**\n",
        "* e.g Compare CTR of three versions of websites\n",
        "* Null Hypothesis $H_0: CTR_A = CTR_B =CTR_C$, CTRs are equal\n",
        "* Alternative Hypthesis $H_A$, at least one CTR is significantly different\n",
        "* $\\chi^2_c = \\sum_{i,j}\\frac{(O_{ij}-E_{ij})^2} {E_{ij}}$\n",
        "* $dof = (n - 1) \\times (r - 1)$\n",
        "* critical values: https://www.statology.org/how-to-read-chi-square-distribution-table/\n",
        "\n",
        "|**Code**|**Description**|\n",
        "| ---- | ---- |\n",
        "|from scipy.stats import chi2_contingency| # import from scipy|\n",
        "|???critical_value_2_tailed = t.ppf(1-alpha/2, df=sample_size-1)| # get critical value, /2 because two tailed|\n",
        "|chisq, pvalue, df, expected = chi2_contingency(observed_results)  | # calculate chiquare, p-value|\n",
        "\n",
        "  - $H_0$ is not rejected, the difference in CTRs are likely to be by chance<br>\n",
        "  - $H_0$ rejected, at least one CTR of the webpage is .\n",
        "---\n",
        "**Plot distributions**\n",
        "\n",
        "|**Code**|**Description**|\n",
        "| ---- | ---- |\n",
        "|from scipy.stats import chi2<br>chi2.pdf(x,df)| # get chi distribution|\n",
        "|from scipy.stats import t<br>plt.plot(x,t.pdf(x,loc=Centre, scale=se, df=dof))||\n",
        "  "
      ],
      "metadata": {
        "id": "7npqE2Kp3k7l"
      },
      "id": "7npqE2Kp3k7l"
    },
    {
      "cell_type": "markdown",
      "source": [
        "# Machine Learning\n"
      ],
      "metadata": {
        "id": "6yGwkcKNUm1m"
      },
      "id": "6yGwkcKNUm1m"
    },
    {
      "cell_type": "markdown",
      "source": [
        "## Unsupervised Machine Learning"
      ],
      "metadata": {
        "id": "Cd5E86dipMZ6"
      },
      "id": "Cd5E86dipMZ6"
    },
    {
      "cell_type": "markdown",
      "source": [
        "|**Code**|**Description**|\n",
        "| ---- | ---- |\n",
        "|from sklearn import set_config<br>set_config(transform_output=\"pandas\")| # get output in pandas dataframes|\n",
        "|anyModel.fit(df)|# fit the model to the data|\n",
        "|anyModel.transform(df)|# transform the fit to the data|\n",
        "|anyModel.fit_transform(df)|# fit the model to the data|\n",
        "|**Scalers**|+++++++++++++++++++++++++++++++++++++|\n",
        "|from sklearn.preprocessing import MinMaxScaler<br>myscaler = MinMaxScaler(feature_range=(0,1))<br>myscaler.fit(df)<br>df_scaled = myscaler.transform(df)<br>pd.DataFrame(df_scaled,index=df.index,<br>columns=df.columns)|General workflow:<br> # 1. import the transformer<br> # 2. initialize the transformer<br> # 3. fit the transformer to the data<br># 4. use the transformer to transform the data<br># 5. reconvert the transformed data back to a DataFrame|\n",
        "|**Preprocessing**|++++++++++++++++++++++++++++|\n",
        "|from sklearn.decomposition import PCA<br>myPca = PCA(n_components = 0.95)| # principal component analysis<br># Initialise the PCA object, keep 95% of the variance information|\n",
        "|myPca.explained_variance\\_ratio_| # get the proportion of variance|\n",
        "|**KMEANS**|+++++++++++++++++++++++++++++++++++++++++|\n",
        "|from sklearn.cluster import KMeans<br>myKMeans = KMeans(n_clusters = k, random_state = random_seed)| # import and initialise the kmean clustering algorithm|\n",
        "|table = myKMeans.labels_| # get the cluster table|\n",
        "|myKMeans.inertia_| # get inertia value |\n",
        "|**Optimizing k-value**|+++++++++++++++++++++++++++++++++++++++++|\n",
        "|inertia_list = []<br>for i in range(1,30):<br>myKMeans = KMeans(n_clusters=i)<br>myKMeans.fit(scaled_df)<br>inertia\\_list.append(round(myKMeans.inertia_))| # find elbow|\n",
        "|from sklearn.metrics import silhouette_score<br>silhouette\\_score(data, myKMeans.labels_)| # look for silhouette score, search for local maxima|\n",
        "\n",
        "\n"
      ],
      "metadata": {
        "id": "WO65T34dUuCg"
      },
      "id": "WO65T34dUuCg"
    },
    {
      "cell_type": "markdown",
      "source": [
        "## Supervised Machine Learning"
      ],
      "metadata": {
        "id": "o0MgrNEPfuAq"
      },
      "id": "o0MgrNEPfuAq"
    },
    {
      "cell_type": "markdown",
      "source": [
        "### General Structure\n",
        "\n",
        "|**Code**|**Description**|\n",
        "| ---- | ---- |\n",
        "|**# SplitData**|+++++++++++++++++++++++++++++++++++++++++++++++|\n",
        "| y = df.pop('target_feature')| # Extract target feature information|\n",
        "|from sklearn.model_selection import train_test_split<br>X_train, X_test, y_train, y_test = train_test_split(X, y, test_size=0.2, random_state=123)| # split data into 80% train data and 20% test data<br>X = predicitive features, y = target features, we want to predict<br>Train data: data we train/fit the algorithm with<br>test data: data to test the model with|\n",
        "|**# Preprocessing**|++++++++++++++++++++++++++++++++++++++++++++++|\n",
        "|**Scaling**||\n",
        "|from sklearn.preprocessing import MinMaxScaler/Standart/Robust<br>scaler = MinMaxScaler()<br>X_train_scaled = scaler.fit_transform(X_train)<br>X_test_scaled = scaler.transform(X_test)| # import scaler<br> # initialize scaler<br> # fit & transform scaler to training data<br> # ! we must apply the scaling to the test set as well !|\n",
        "|MinMaxScaler| # sets minimum and maximium value to 0 and 1 and scales linearly|\n",
        "|**Imputing**||\n",
        "|X_num = X.select_dtypes(include=\"number\")| # only include numerical data|\n",
        "|from sklearn.impute import SimpleImputer<br>my_imputer = SimpleImputer().set_output(transform='pandas')<br>X_imputed_train = my_imputer.fit_transform(X_train)| # Use **SimpleImputer**<br>default=mean, strategy='mean','median','most_frequent'<br>strategy='constant',fill_value='str'/int fill with specific value<br>https://scikit-learn.org/stable/modules/generated/sklearn.impute.SimpleImputer.html|\n",
        "|**Ordinal Encoder**||\n",
        "|**OneHot Encoder**||\n",
        "|**# Algorithm**|+++++++++++++++++++++++++++++++++++++++++++++++|\n",
        "|from sklearn.tree import xxxClassifier<br>my_xx = xxxClassifier(parameters...)<br>my_xx.fit(X = X_train, y = y_train)| # fit data to Classifier/Regressor|\n",
        "|**Prediction**|+++++++++++++++++++++++++++++++++++++++++++++++|\n",
        "|y_pred = my_xx.predict(X_train)| # make predictions based on training data|\n",
        "|# **Testing**|+++++++++++++++++++++++++++++++++++++++++++++++|\n",
        "|my_xx.score(X_test,y_test)| # accuracy for classification, R^2 for regression|\n",
        "|from sklearn.metrics import accuracy_score<br>train_accuracy = accuracy_score(y_train, my_xx.predict(X_train))| # get accurancy of training data<br>calculate percentage for y_test and y_pred<br>higher training accurancy than testing accurancy is a sign of overfitting|\n",
        "|X_test = my_imputer.transform(X_test)<br>accuracy_score(y_test, my_xxx.predict(X_test))| # Check accurancy for test set with preprocessor(?)|"
      ],
      "metadata": {
        "id": "NJphNz_JfgpM"
      },
      "id": "NJphNz_JfgpM"
    },
    {
      "cell_type": "markdown",
      "source": [
        "### K-nearest neighbors\n",
        "Classification is computed from a simple majority vote of the nearest neighbors of each point: a query point is assigned the data class which has the most representatives within the nearest neighbors of the point.\n",
        "+ easy, use as baseline\n",
        "- slow/weak for many features,consider feature selection\n",
        "+ requires scaling\n",
        "\n",
        "\n",
        "|**Code**|**Description**|\n",
        "| ---- | ---- |\n",
        "|from sklearn.neighbors import KNeighborsClassifier/Regressor<br>knn = KNeighborsClassifier(n_neighbors = 5, p=2, weight='distance')|\n",
        "|**Hyperparameters**||\n",
        "|n_neighbors=[3,5,7,9,11,13,15]|# number of neighbors which vote, odd to avoid ties<br> the lower the more overfitting|\n",
        "|p=[1,2,3,4,5]|# distances, p=2 is euclidian distance, the higher the more overfitting|\n",
        "|weight=['uniform','distance']| # uniform: all k neighbors vote equally,<br> distance: closer points are weighted more/inverse distance|\n",
        "|**attributes**||\n",
        "|knn.n_features_in_| # how many features were seen during fit|\n",
        "|knn.feature_names_in_|# which features were seen during fit|\n",
        "|knn.n_samples_fit_| # how many samples were used to fit|"
      ],
      "metadata": {
        "id": "2kqUzi1qgeFl"
      },
      "id": "2kqUzi1qgeFl"
    },
    {
      "cell_type": "markdown",
      "source": [
        "### Linear Regression\n",
        "### normal Linear Regression\n",
        "- LinearRegression fits a linear model with coefficients w = (w1, …, wp) to minimize the residual sum of squares between the observed targets in the dataset, and the targets predicted by the linear approximation (minimizes the loss function).<br>\n",
        "$\\sum^N(y_i-(w\\cdot x_i +b)^2$\n",
        "- scaling doesn't change the outcome\n",
        "\n",
        "### Ridge Regression\n",
        "- Adds a regularization term to the linear regressor during training, that put a L2 **penality on large feature weights** to reduce the models' complexity.<br>\n",
        "$\\sum^N_i(y_i-(w\\cdot x_i +b)^2+α \\sum^p_j w^2_j $ <br>\n",
        "- Handles data with many features better and sets the weights to be small\n",
        "- requires scaling\n",
        "- good for small amout of training data compared to the number of features\n",
        "\n",
        "### Lasso Regression\n",
        "- Adds a regularization term, that put a L1 **penalty on the least influential variables** the training data: minimizes the sum of absolute values of the coefficients<br>\n",
        "$\\sum^N_i(y_i-(w\\cdot x_i +b)^2+α \\sum^p_j |w_j| $ <br>\n",
        "- feature selection effect: subset of feature weights are forced to be zero\n",
        "- use if only some features have effect\n",
        "- requires scaling\n",
        "\n",
        "### Polynomial Regression\n",
        "- transform data points by adding muliplication combinations to allow polynomials to be fitted to the data\n",
        "- eg for a set with two features $x=(x_0,x_1)$ with the output $ y=w_0x_0+w_1x_1+b $, the transformation $y=w_0x_0+w_1x_1+w_0 x_0^2+w_{01}x_0x_1+w_{11}x_1^2+b $ is fitted to the data\n",
        "- captures **interactions between different features**!\n",
        "- more evolved: non-linear basis functions\n",
        "\n",
        "|**Code**|**Description**|\n",
        "| ---- | ---- |\n",
        "|**Linear**||\n",
        "|from sklearn.linear_model import LinearRegression<br>linreg = LinearRegression().fit(X_train, y_train)| # import Linear Regressor<br># fit|\n",
        "|**Ridge**||\n",
        "|from sklearn.linear_model import Ridge<br>linridge = Ridge().fit(X_train, y_train)| # import Ridge Regressor<br> # fit|\n",
        "|**Lasso**||\n",
        "|from sklearn.linear_model import Lasso<br>linlasso = Lasso().fit(X_train_scaled, y_train)| # import Ridge Regressor<br> # fit|\n",
        "|**Polynomial**||\n",
        "|from sklearn.preprocessing import PolynomialFeatures<br>from sklearn.linear_model import Ridge<br>poly = PolynomialFeatures(degree=2)<br>X_poly = poly.fit_transform(X)<br>X_train, X_test, y_train, y_test = train_test_split(X_poly, y)<br>linreg = Ridge().fit(X_train, y_train)| # First do the polynomial transformation, with up to quadratic,<br>then the split, followed by a linear regression with a penalty<br>like Ridge, to avoid overfitting |\n",
        "|**Attributes**||\n",
        "|xxx.coef\\_<br> xxx.intercept\\_| # get coeffcient<br> # get intercept|\n",
        "|**Hyperparameters**||\n",
        "|alpha=[0.1,1,10,20,50,100,1000]| # default=1, larger $\\alpha$ means more regularization and<br>lower complexity/less overfitting |\n",
        "|max_iter = [20000]| # increase number of iterations for conversion issues<br> increases computation time|"
      ],
      "metadata": {
        "id": "QUpp4OKN25Pt"
      },
      "id": "QUpp4OKN25Pt"
    },
    {
      "cell_type": "markdown",
      "source": [],
      "metadata": {
        "id": "P2JgowtpJmNE"
      },
      "id": "P2JgowtpJmNE"
    },
    {
      "cell_type": "markdown",
      "source": [
        "### Decision Trees\n",
        "\n",
        "|**Code**|**Description**|\n",
        "| ---- | ---- |\n",
        "|from sklearn.tree import DecisionTreeClassifier<br>dtree = DecisionTreeClassifier(max_depth=int,min_sample_leaf=int)| # initialize Decision Tree Classifier|\n",
        "|**Starting values for Gridsearch**||\n",
        "|max_depth=[2-15]| # size of tree|\n",
        "|min_samples_leaf=||"
      ],
      "metadata": {
        "id": "y9m8P03i1wKS"
      },
      "id": "y9m8P03i1wKS"
    },
    {
      "cell_type": "markdown",
      "source": [
        "### Plotting\n",
        "|**Code**|**Description**|\n",
        "| --- | --- |\n",
        "|**DecisionTree**||\n",
        "| from sklearn.DecisionTree import plot_DecisionTree<br>plt.figure(figsize=(64, 32))<br>plot_DecisionTree(my_DecisionTree,<br>filled=True,<br>rounded=True,<br>class_names=['Target1,'Target2'],<br>feature_names=X.columns); | # Decision tree model to visualize<br> # Whether to fill nodes with colors based on majority class<br> # Whether to round the corners of the nodes<br> # Names of the classes for the target variable<br> # Names of the features (columns) in your dataset|\n",
        "|**KNN**||\n",
        "|plot_fruit_knn(n_neighbors, weights=weights)| #  plot decision boundaries<br>plots available at adspy_shared_utilities.py|"
      ],
      "metadata": {
        "id": "0NnbegM1EgMv"
      },
      "id": "0NnbegM1EgMv"
    },
    {
      "cell_type": "markdown",
      "source": [
        "### Examplary Pipeline\n",
        "- with one simple imputer and a decision tree\n",
        "- Using GridSearch Cross Validation\n",
        "- more detailed pipelines will be added soon"
      ],
      "metadata": {
        "id": "ef0GeOZinAWZ"
      },
      "id": "ef0GeOZinAWZ"
    },
    {
      "cell_type": "code",
      "source": [
        "# 1. initialize transformers & model without specifying the parameters\n",
        "imputer = SimpleImputer()\n",
        "dtree = DecisionTreeClassifier(random_state=31416)\n",
        "# 2. Create a pipeline\n",
        "pipe = make_pipeline(imputer, dtree).set_output(transform='pandas')\n",
        "# 3. Defining the cross validation\n",
        "param_grid = {\n",
        "    #\"simpleimputer__strategy\":[\"mean\", \"median\", 'most_frequent'],\n",
        "    'decisiontreeclassifier__max_depth': range(2, 12, 2),\n",
        "    'decisiontreeclassifier__min_samples_leaf': range(3, 20, 2),\n",
        "    #'decisiontreeclassifier__min_samples_split': range(3, 40, 5),       # sometime useful\n",
        "    #'decisiontreeclassifier__criterion':['gini', 'entropy']             # mostly not useful\n",
        "    #worth trying: min Impurty decrease  ?\n",
        "    #  'class_weight': {0:1,1:2} # class one double important than class zero, worth trying example deadly mushrooms\n",
        "    'decisiontreeclassifier__ccp_alpha': [0.1, 0.01, 0.001]  # exponential list, weight of impurity and complexity,\n",
        "    #is it worth it to do more complex in retrospec? chops of unworthy parts of trees\n",
        "    # 'decisiontreeclassifier__monotonic_cst':\n",
        "}\n",
        "# 4. Initalize the GridSearch\n",
        "from sklearn.model_selection import GridSearchCV\n",
        "search = GridSearchCV(pipe, # you have defined this beforehand\n",
        "                      param_grid, # your parameter grid\n",
        "                      cv=5, # the value for K in K-fold Cross Validation\n",
        "                      scoring='accuracy', # the performance metric to use,\n",
        "                      verbose=1) # we want informative outputs during the training process, try changing it to 2 and see what happens\n",
        "\n",
        "# 5. Fit your 'search' to the training data\n",
        "search.fit(X_train, y_train)\n",
        "\n",
        "# cross validation average accuracy\n",
        "print(search.best_score_)\n",
        "\n",
        "# best parameters\n",
        "print(search.best_params_)"
      ],
      "metadata": {
        "id": "dmbM2fHXptAC"
      },
      "id": "dmbM2fHXptAC",
      "execution_count": null,
      "outputs": []
    },
    {
      "cell_type": "markdown",
      "source": [
        "---\n",
        "---\n",
        "# SQL"
      ],
      "metadata": {
        "id": "xh0E4bWeDVP3"
      },
      "id": "xh0E4bWeDVP3"
    },
    {
      "cell_type": "markdown",
      "source": [
        "## SQL Basics\n",
        "\n",
        "|**SQL Code**|**Description**|\n",
        "| ---- | ---- |\n",
        "|SELECT DISTINCT(),<br>COUNT() AS new_name,<br> AVG(),<br> SUM(),<br> MAX(),<br> MIN(),<br>| # Select and aggregations, comma only if case follows|\n",
        "|CASE<br>WHEN condition1 THEN ‘answer1’<br>WHEN condition2 THEN ‘answer_2’<br>ELSE 'answer3' <br>END AS ‘new_column_name’| # introduce new column with conditions|\n",
        "|FROM tables| # speficy table|\n",
        "|(LEFT/RIGHT/INNER) JOIN table_2 as t2 ON<br>t1.columns_content = t2.columns_content<br>OR<br>LEFT JOIN table_2<br>USING (one_common_column)| # Joins in SQL|\n",
        "|WHERE | # filtering with conditions |\n",
        "|WHERE col LIKE (%A___%)| # string in col must be A***|\n",
        "|WHERE col BETWEEM int1 AND int2| # num in col must be between int1 and int2 (inclusive >= & <=)|\n",
        "|GROUP BY| # categories to aggregate|\n",
        "|HAVING| # filtering the aggregates|\n",
        "|ORDER BY col DESC| # particular order, descending|\n",
        "|LIMIT int| # only displays numbers|\n",
        "|**other codes**| ++++++++++++++++++++++++|\n",
        "|YEAR/MONTH/DAY(timestamp)| # extract from timestamp|\n",
        "|DATEDIFF(MAX(col), MIN(col))| # calculate difference of two dates in days|\n",
        "|WHEN price < 50 THEN 'low'<br>WHEN price >= 50 AND price < 150 THEN 'middle'| # condition for setting price categories|\n",
        "|WHEN product_category IN<br>('computers','electronics','telephony')  THEN 'tec'| # condition for setting up product categories|\n",
        "|SELECT CONCAT(firstname, ' ', lastname) as FullName| # concatenating|\n"
      ],
      "metadata": {
        "id": "ZWV_u-bBXyaY"
      },
      "id": "ZWV_u-bBXyaY"
    },
    {
      "cell_type": "markdown",
      "source": [
        "---\n",
        "## SQL Math\n",
        "\n",
        "|**SQL Code**|**Description**|\n",
        "| ---- | ---- |\n",
        "|SELECT ABS(INT)| # absolute value|\n",
        "|SELECT FLOOR(INT)| # round down to closest integer|\n",
        "|SELECT CEIL(INT)| # round up to closest integer|\n",
        "|SELECT ROUND(INT,DECIMALS)| # round Int to Decimals|\n",
        "|SELECT POW(10, 2)| # 10^2|"
      ],
      "metadata": {
        "id": "0Wiwtd2TNubH"
      },
      "id": "0Wiwtd2TNubH"
    },
    {
      "cell_type": "markdown",
      "source": [
        "---\n",
        "## Subqueries/CTE\n",
        "\n",
        "|**SQL Code**|**Description**|\n",
        "| ---- | ---- |\n",
        "|subquery in () somehere within a query| # useful if its only a row or a value<br> in WHERE, HAVING, FROM or SELECT clause|\n",
        "|WITH cte_name AS (<br>\\*normal query\\*<br>)<br>SELECT ...;| # CTE, common table expression, defined/referenceable query within one query<br>at the beginning of a normal query, can only be used once in a query;<br>multiple CTE: WITH cte_1 AS (...), cte_2 AS (...)|\n",
        "|CREATE TEMPORARY TABLE table_name (<br>SELECT ...);| # temporary table, accessable in whole session. |"
      ],
      "metadata": {
        "id": "c2QrhE6fwE3e"
      },
      "id": "c2QrhE6fwE3e"
    },
    {
      "cell_type": "markdown",
      "source": [
        "---\n",
        "## WINDOW functions\n",
        "\n",
        "|**SQL Code**|**Description**|\n",
        "| ---- | ---- |\n",
        "|SELECT \\*,<br> AVG/SUM/COUNT(col) OVER (PARTITION BY Id)<br>FROM table| # window function, **groups by Id** and does the AVG/SUM but still shows all entries<br>doesn't aggregate! |\n",
        "|SELECT \\*,<br>SUM(col1) OVER (ORDER BY col2)<br> FROM table| # orders by col2, here with the sum (special case) its the accumulative sum of col1|\n",
        "|SELECT \\*,<br>SUM(col1) OVER (PARTITION BY Id ORDER BY col2)| # combination, cum sum of every Id group|\n",
        "|SELECT \\*, ROW_NUMBER() OVER (xxx)<br>FROM table| # gives consecutive row numbers|\n",
        "|SELECT \\*, RANK() OVER (xxx)<br>FROM table| # ranks in terms of the row number (mulitple entries in groups are skipped),<br> if you want to filter eg Rank=1 then use CTE with WHERE clause|\n",
        "|SELECT \\*, DENSE_RANK() OVER (xxx)<br>FROM table| # ranks in terms of consecutive numbers|\n",
        "|log lag are missing| need to add|\n",
        "|stored views, procudure are misssing||"
      ],
      "metadata": {
        "id": "l7DuyjdFwIYd"
      },
      "id": "l7DuyjdFwIYd"
    },
    {
      "cell_type": "markdown",
      "source": [
        "---\n",
        "## Setting up a database in SQL\n",
        "\n",
        "|**SQL Code**|**Description**|\n",
        "| ---- | ---- |\n",
        "|DROP DATABASE IF EXISTS name_sql_workbench ;| # Drop the database if it already exists|\n",
        "|CREATE DATABASE name_sql_workbench;| # Create the database|\n",
        "|USE name_sql_workbench;| # Use the database|\n",
        "|CREATE TABLE cities (<br>city_id INT AUTO_INCREMENT,<br>city_name VARCHAR(255) NOT NULL,<br>country VARCHAR(255),<br>PRIMARY KEY (city_id)<br>);| # Create the 'cities' table, introduce a unique city_id via AUTO_INCREMEN,<br>and set it to primary key<br> Datatypes in SQL: https://www.w3schools.com/mysql/mysql_datatypes.asp|\n",
        "|FOREIGN KEY (xxx_id) REFERENCES tables(xxx_id)| # setting up a foreign key from tables with primary key xxx_id|\n",
        "|INSERT INTO tables (column)<br>VALUES ('str');| # insert values|\n",
        "|INSERT INTO tables (column1_, column_2)<br>VALUES<br>('str1', 'str2'),<br>('str1', 'str2');| # insert |\n",
        "|UPDATE tables<br>SET column = 'NewStr'<br>WHERE xxx_id = int;| # update a row (with specific id)|\n",
        "|DELETE FROM tables<br>WHERE column = 'str';| # delete a single record, also WHERE xxx_id = int|\n",
        "|DELETE FROM tables<br>WHERE xxx_id IN (int1,int2);| # delete a multiple records|"
      ],
      "metadata": {
        "id": "kmvpFpqN88ND"
      },
      "id": "kmvpFpqN88ND"
    },
    {
      "cell_type": "code",
      "source": [],
      "metadata": {
        "id": "oyrby5kGwNdP"
      },
      "id": "oyrby5kGwNdP",
      "execution_count": null,
      "outputs": []
    }
  ],
  "metadata": {
    "kernelspec": {
      "display_name": "Python 3 (ipykernel)",
      "language": "python",
      "name": "python3"
    },
    "language_info": {
      "codemirror_mode": {
        "name": "ipython",
        "version": 3
      },
      "file_extension": ".py",
      "mimetype": "text/x-python",
      "name": "python",
      "nbconvert_exporter": "python",
      "pygments_lexer": "ipython3",
      "version": "3.9.13"
    },
    "colab": {
      "provenance": [],
      "include_colab_link": true
    }
  },
  "nbformat": 4,
  "nbformat_minor": 5
}